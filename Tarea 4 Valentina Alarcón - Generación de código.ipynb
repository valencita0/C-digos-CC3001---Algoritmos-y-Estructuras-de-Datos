{
  "nbformat": 4,
  "nbformat_minor": 0,
  "metadata": {
    "kernelspec": {
      "display_name": "Python 3",
      "language": "python",
      "name": "python3"
    },
    "language_info": {
      "codemirror_mode": {
        "name": "ipython",
        "version": 3
      },
      "file_extension": ".py",
      "mimetype": "text/x-python",
      "name": "python",
      "nbconvert_exporter": "python",
      "pygments_lexer": "ipython3",
      "version": "3.7.1"
    },
    "colab": {
      "provenance": []
    }
  },
  "cells": [
    {
      "cell_type": "markdown",
      "metadata": {
        "id": "aHlFnqz2F2nU"
      },
      "source": [
        "# CC3001 Otoño 2023 Tarea 4 Valentina Alarcón Yáñez\n",
        "# Generación de código\n",
        "\n",
        "Profesores: Iván Sipirán / Nelson Baloian / Patricio Poblete\n"
      ]
    },
    {
      "cell_type": "markdown",
      "metadata": {
        "id": "-t8wjUcsF2nV"
      },
      "source": [
        "El objetivo de esta tarea es aprender sobre la manipulación de árboles que representan fórmulas. Hay muchas cosas que uno puede hacer con estos árboles, y en esta tarea nos enfocaremos en particular en algo que los compiladores hacen: la **generación de código** para evaluar fórmulas.\n",
        "\n",
        "Específicamente, el problema es: dada una fórmula, generar una secuencia de instrucciones elementales que la evalúen. Por ejemplo, dada una fórmula como\n",
        "\n",
        "```\n",
        "(a+b)*(c-d)\n",
        "```\n",
        "\n",
        "se podría generar código como el siguiente:\n",
        "\n",
        "```\n",
        "t1=a+b\n",
        "t2=c-d\n",
        "t3=t1*t2\n",
        "```\n",
        "\n",
        "Las instrucciones elementales son siempre de la forma ``ti=x op y``, donde ``ti`` es una variable temporal, ``x`` e ``y`` pueden ser variables o números, y ``op`` es un operador. Uno va creando variables ``t1``, ``t2``, ... a medida que las necesita, y la última de ellas es la que almacena el valor final de la fórmula.\n",
        "\n",
        "Las fórmulas pueden ser arbitrariamente complicadas, como por ejemplo la fórmula\n",
        "\n",
        "$$\n",
        "(2-p\\,q)\\left( \\frac{1}{n}+\\frac{1}{p+q}\\right)\n",
        "$$\n",
        "\n",
        "la cual escribimos como\n",
        "\n",
        "```\n",
        "(2-p*q)*(1/n+1/(p+q))\n",
        "```\n",
        "\n",
        "y cuyo código generado podría ser,\n",
        "\n",
        "```\n",
        "t1=p*q\n",
        "t2=2-t1\n",
        "t3=1/n\n",
        "t4=p+q\n",
        "t5=1/t4\n",
        "t6=t3+t5\n",
        "t7=t2*t6\n",
        "```\n",
        "\n",
        "El objetivo de esta tarea es que usted implemente una función que, dado un árbol ya construído, lo recorra para generar una secuencia de instrucciones elementales que lo evalúe.\n",
        "\n",
        "A continuación usted encontrará clases ``Nodoi``, ``Nodoe`` y ``Arbol`` que implementan árboles que representan fórmulas. La clase ``Arbol`` viene con un constructor que recibe un string como parámetro, el cual contiene una fórmula, y este constructor se encarga de transformar la fórmula de string a árbol, de modo que usted no necesita preocuparse de eso. Para simplificar, la fórmula solo podrá contener variables de una sola letra, números de un solo dígito, y sin espacios. Los operadores permitidos son solo suma, resta, multiplicación y división. No hay operador menos unario.\n",
        "\n",
        "Usted tienen que implementar para la clase ``Arbol`` una función ``codigo`` que al ser invocado genere una secuencia de instrucciones elementales para evaluar la fórmula representada por ese árbol, y la retorne en forma de una lista (de Python)."
      ]
    },
    {
      "cell_type": "code",
      "source": [
        "# Ejecutar esto para poder visualizar los árboles\n",
        "\n",
        "!pip install aed-utilities"
      ],
      "metadata": {
        "colab": {
          "base_uri": "https://localhost:8080/"
        },
        "id": "iz1412X9zRQw",
        "outputId": "a841479b-87bb-4aaa-c6f9-76e8db2154e1"
      },
      "execution_count": null,
      "outputs": [
        {
          "output_type": "stream",
          "name": "stdout",
          "text": [
            "Looking in indexes: https://pypi.org/simple, https://us-python.pkg.dev/colab-wheels/public/simple/\n",
            "Collecting aed-utilities\n",
            "  Downloading aed_utilities-0.5.6.tar.gz (4.3 kB)\n",
            "  Preparing metadata (setup.py) ... \u001b[?25l\u001b[?25hdone\n",
            "Collecting validators (from aed-utilities)\n",
            "  Downloading validators-0.20.0.tar.gz (30 kB)\n",
            "  Preparing metadata (setup.py) ... \u001b[?25l\u001b[?25hdone\n",
            "Requirement already satisfied: beautifulsoup4 in /usr/local/lib/python3.10/dist-packages (from aed-utilities) (4.11.2)\n",
            "Requirement already satisfied: soupsieve>1.2 in /usr/local/lib/python3.10/dist-packages (from beautifulsoup4->aed-utilities) (2.4.1)\n",
            "Requirement already satisfied: decorator>=3.4.0 in /usr/local/lib/python3.10/dist-packages (from validators->aed-utilities) (4.4.2)\n",
            "Building wheels for collected packages: aed-utilities, validators\n",
            "  Building wheel for aed-utilities (setup.py) ... \u001b[?25l\u001b[?25hdone\n",
            "  Created wheel for aed-utilities: filename=aed_utilities-0.5.6-py3-none-any.whl size=4542 sha256=1290fce988b51bf4aadb09018a509b41e2d6da948a0303579188974185317a95\n",
            "  Stored in directory: /root/.cache/pip/wheels/db/6d/39/cc766f956b1e504722228ad30c8154cd48f4470e7e24dcfd0e\n",
            "  Building wheel for validators (setup.py) ... \u001b[?25l\u001b[?25hdone\n",
            "  Created wheel for validators: filename=validators-0.20.0-py3-none-any.whl size=19579 sha256=5a44be41b005066c3c109769932fad98f60709aaa1aedc911186b0a09113643b\n",
            "  Stored in directory: /root/.cache/pip/wheels/f2/ed/dd/d3a556ad245ef9dc570c6bcd2f22886d17b0b408dd3bbb9ac3\n",
            "Successfully built aed-utilities validators\n",
            "Installing collected packages: validators, aed-utilities\n",
            "Successfully installed aed-utilities-0.5.6 validators-0.20.0\n"
          ]
        }
      ]
    },
    {
      "cell_type": "code",
      "metadata": {
        "id": "G7vsv1WvF2nX"
      },
      "source": [
        "import aed_utilities as aed\n",
        "\n",
        "\n",
        "class Nodoi:\n",
        "    def __init__(self, izq, info, der):\n",
        "        self.izq=izq\n",
        "        self.info=info\n",
        "        self.der=der\n",
        "    def evaluar(self,lista_tareas):\n",
        "        primer_op=self.izq.evaluar(lista_tareas)\n",
        "        segundo_op=self.der.evaluar(lista_tareas)\n",
        "        tarea=(str(primer_op)+self.info+str(segundo_op))\n",
        "        lista_tareas.append(\"tarea\"+str(len(lista_tareas)+1)+\"=\"+tarea)\n",
        "        return \"tarea\"+ str(len(lista_tareas))\n",
        "\n",
        "class Nodoe:\n",
        "    def __init__(self, info):\n",
        "        self.info=info\n",
        "    def evaluar(self,lista_tareas):\n",
        "      return self.info\n",
        "\n",
        "class Arbol:\n",
        "    def __init__(self,formula):\n",
        "        global k\n",
        "        global s\n",
        "        s=formula+\";\" # agregamos una marca de fin de la entrada\n",
        "        k=0 # indica próximo caracter por procesar\n",
        "        # definimos funciones para analizar la fórmula\n",
        "        def expresion(): # retorna puntero a la raíz de un árbol que representa a la fórmula s\n",
        "            global k\n",
        "            global s\n",
        "            a=factor()\n",
        "            while s[k]==\"+\" or s[k]==\"-\":\n",
        "                op=s[k]\n",
        "                k+=1\n",
        "                b=factor()\n",
        "                a=Nodoi(a,op,b)\n",
        "            return a\n",
        "        def factor():\n",
        "            global k\n",
        "            global s\n",
        "            a=termino()\n",
        "            while s[k]==\"*\" or s[k]==\"/\":\n",
        "                op=s[k]\n",
        "                k+=1\n",
        "                b=termino()\n",
        "                a=Nodoi(a,op,b)\n",
        "            return a\n",
        "        def termino(): # posible constante, variable o formula parentizada\n",
        "            global k\n",
        "            global s\n",
        "            if s[k].isalpha() or s[k].isdigit():\n",
        "                a=Nodoe(s[k])\n",
        "                k+=1\n",
        "                return a\n",
        "            if s[k]==\"(\": # fórmula parentizada\n",
        "                k+=1\n",
        "                a=expresion()\n",
        "                if s[k]!=\")\":\n",
        "                    print(\"Error: Falta cierra paréntesis: \"+formula[k:])\n",
        "                    assert False\n",
        "                k+=1\n",
        "                return a\n",
        "            print(\"Error: Falta variable, número o abre paréntesis: \"+formula[k:])\n",
        "            assert False\n",
        "\n",
        "        a=expresion()\n",
        "        if s[k]!=\";\":\n",
        "            print(\"Error: Basura al final de la fórmula: \"+formula[k:])\n",
        "            assert False\n",
        "        self.raiz=a\n",
        "\n",
        "    def codigo(self):\n",
        "        # Esta es la función que tienen que escribir ustedes\n",
        "        lista_tareas=list()\n",
        "        evaluacion = self.raiz.evaluar(lista_tareas)\n",
        "        evaluacion\n",
        "        if lista_tareas==list():\n",
        "          lista_tareas.append(\"tarea1=\"+str(evaluacion))\n",
        "          return lista_tareas\n",
        "        else:\n",
        "          return lista_tareas\n",
        "\n",
        "\n",
        "    def dibujar(self):\n",
        "      btd = aed.BinaryTreeDrawer(fieldData=\"info\", fieldLeft=\"izq\", fieldRight=\"der\", classNone=Nodoe)\n",
        "      btd.draw_tree(self, \"raiz\")"
      ],
      "execution_count": null,
      "outputs": []
    },
    {
      "cell_type": "markdown",
      "metadata": {
        "id": "PibRJ0ZFF2nb"
      },
      "source": [
        "A continuación probamos esta funcionalidad con varias fórmulas de ejemplo. Para ver si el árbol fue construido correctamente, lo dibujamos."
      ]
    },
    {
      "cell_type": "code",
      "metadata": {
        "id": "7_7E3OWuF2nd",
        "outputId": "9b60607a-128f-4307-8303-69af13e154b4",
        "colab": {
          "base_uri": "https://localhost:8080/",
          "height": 195
        }
      },
      "source": [
        "Arbol(\"a*b*c\").dibujar()"
      ],
      "execution_count": null,
      "outputs": [
        {
          "output_type": "display_data",
          "data": {
            "text/plain": [
              "<IPython.core.display.SVG object>"
            ],
            "image/svg+xml": "<svg xmlns=\"http://www.w3.org/2000/svg\" xmlns:xlink=\"http://www.w3.org/1999/xlink\" width=\"178pt\" height=\"130pt\" viewBox=\"0.00 0.00 178.40 130.40\">\n<g id=\"graph0\" class=\"graph\" transform=\"scale(1 1) rotate(0) translate(4 126.4)\">\n<title>Arbol</title>\n<polygon fill=\"white\" stroke=\"transparent\" points=\"-4,4 -4,-126.4 174.4,-126.4 174.4,4 -4,4\"/>\n<!-- node0 -->\n<g id=\"node1\" class=\"node\">\n<title>node0</title>\n<polygon fill=\"none\" stroke=\"black\" points=\"36,-36 0,-36 0,0 36,0 36,-36\"/>\n<text text-anchor=\"middle\" x=\"18\" y=\"-14.3\" font-family=\"Times,serif\" font-size=\"14.00\">a</text>\n</g>\n<!-- node2 -->\n<g id=\"node2\" class=\"node\">\n<title>node2</title>\n<ellipse fill=\"none\" stroke=\"black\" cx=\"51.6\" cy=\"-61.2\" rx=\"18\" ry=\"18\"/>\n<text text-anchor=\"middle\" x=\"51.6\" y=\"-57.5\" font-family=\"Times,serif\" font-size=\"14.00\">*</text>\n</g>\n<!-- node2&#45;&#45;node0 -->\n<g id=\"edge2\" class=\"edge\">\n<title>node2--node0</title>\n<path fill=\"none\" stroke=\"black\" d=\"M40.22,-46.57C37.64,-43.25 34.85,-39.67 32.16,-36.21\"/>\n</g>\n<!-- node1 -->\n<g id=\"node3\" class=\"node\">\n<title>node1</title>\n<polygon fill=\"none\" stroke=\"black\" points=\"103.2,-36 67.2,-36 67.2,0 103.2,0 103.2,-36\"/>\n<text text-anchor=\"middle\" x=\"85.2\" y=\"-14.3\" font-family=\"Times,serif\" font-size=\"14.00\">b</text>\n</g>\n<!-- node2&#45;&#45;node1 -->\n<g id=\"edge3\" class=\"edge\">\n<title>node2--node1</title>\n<path fill=\"none\" stroke=\"black\" d=\"M62.98,-46.57C65.56,-43.25 68.35,-39.67 71.04,-36.21\"/>\n</g>\n<!-- node4 -->\n<g id=\"node4\" class=\"node\">\n<title>node4</title>\n<ellipse fill=\"none\" stroke=\"black\" cx=\"118.8\" cy=\"-104.4\" rx=\"18\" ry=\"18\"/>\n<text text-anchor=\"middle\" x=\"118.8\" y=\"-100.7\" font-family=\"Times,serif\" font-size=\"14.00\">*</text>\n</g>\n<!-- node4&#45;&#45;node2 -->\n<g id=\"edge1\" class=\"edge\">\n<title>node4--node2</title>\n<path fill=\"none\" stroke=\"black\" d=\"M103.55,-94.6C92.55,-87.53 77.77,-78.02 66.79,-70.96\"/>\n</g>\n<!-- node3 -->\n<g id=\"node5\" class=\"node\">\n<title>node3</title>\n<polygon fill=\"none\" stroke=\"black\" points=\"170.4,-79.2 134.4,-79.2 134.4,-43.2 170.4,-43.2 170.4,-79.2\"/>\n<text text-anchor=\"middle\" x=\"152.4\" y=\"-57.5\" font-family=\"Times,serif\" font-size=\"14.00\">c</text>\n</g>\n<!-- node4&#45;&#45;node3 -->\n<g id=\"edge4\" class=\"edge\">\n<title>node4--node3</title>\n<path fill=\"none\" stroke=\"black\" d=\"M130.18,-89.77C132.76,-86.45 135.55,-82.87 138.24,-79.41\"/>\n</g>\n</g>\n</svg>"
          },
          "metadata": {}
        }
      ]
    },
    {
      "cell_type": "code",
      "metadata": {
        "id": "mVMg8ye2F2nj",
        "outputId": "7ae6b29f-6cd7-49e6-844c-c3c9369ef687",
        "colab": {
          "base_uri": "https://localhost:8080/",
          "height": 195
        }
      },
      "source": [
        "Arbol(\"(a+b)*(c-d)\").dibujar()"
      ],
      "execution_count": null,
      "outputs": [
        {
          "output_type": "display_data",
          "data": {
            "text/plain": [
              "<IPython.core.display.SVG object>"
            ],
            "image/svg+xml": "<svg xmlns=\"http://www.w3.org/2000/svg\" xmlns:xlink=\"http://www.w3.org/1999/xlink\" width=\"246pt\" height=\"130pt\" viewBox=\"0.00 0.00 245.60 130.40\">\n<g id=\"graph0\" class=\"graph\" transform=\"scale(1 1) rotate(0) translate(4 126.4)\">\n<title>Arbol</title>\n<polygon fill=\"white\" stroke=\"transparent\" points=\"-4,4 -4,-126.4 241.6,-126.4 241.6,4 -4,4\"/>\n<!-- node0 -->\n<g id=\"node1\" class=\"node\">\n<title>node0</title>\n<polygon fill=\"none\" stroke=\"black\" points=\"36,-36 0,-36 0,0 36,0 36,-36\"/>\n<text text-anchor=\"middle\" x=\"18\" y=\"-14.3\" font-family=\"Times,serif\" font-size=\"14.00\">a</text>\n</g>\n<!-- node2 -->\n<g id=\"node2\" class=\"node\">\n<title>node2</title>\n<ellipse fill=\"none\" stroke=\"black\" cx=\"51.6\" cy=\"-61.2\" rx=\"18\" ry=\"18\"/>\n<text text-anchor=\"middle\" x=\"51.6\" y=\"-57.5\" font-family=\"Times,serif\" font-size=\"14.00\">+</text>\n</g>\n<!-- node2&#45;&#45;node0 -->\n<g id=\"edge2\" class=\"edge\">\n<title>node2--node0</title>\n<path fill=\"none\" stroke=\"black\" d=\"M40.22,-46.57C37.64,-43.25 34.85,-39.67 32.16,-36.21\"/>\n</g>\n<!-- node1 -->\n<g id=\"node3\" class=\"node\">\n<title>node1</title>\n<polygon fill=\"none\" stroke=\"black\" points=\"103.2,-36 67.2,-36 67.2,0 103.2,0 103.2,-36\"/>\n<text text-anchor=\"middle\" x=\"85.2\" y=\"-14.3\" font-family=\"Times,serif\" font-size=\"14.00\">b</text>\n</g>\n<!-- node2&#45;&#45;node1 -->\n<g id=\"edge3\" class=\"edge\">\n<title>node2--node1</title>\n<path fill=\"none\" stroke=\"black\" d=\"M62.98,-46.57C65.56,-43.25 68.35,-39.67 71.04,-36.21\"/>\n</g>\n<!-- node6 -->\n<g id=\"node4\" class=\"node\">\n<title>node6</title>\n<ellipse fill=\"none\" stroke=\"black\" cx=\"118.8\" cy=\"-104.4\" rx=\"18\" ry=\"18\"/>\n<text text-anchor=\"middle\" x=\"118.8\" y=\"-100.7\" font-family=\"Times,serif\" font-size=\"14.00\">*</text>\n</g>\n<!-- node6&#45;&#45;node2 -->\n<g id=\"edge1\" class=\"edge\">\n<title>node6--node2</title>\n<path fill=\"none\" stroke=\"black\" d=\"M103.55,-94.6C92.55,-87.53 77.77,-78.02 66.79,-70.96\"/>\n</g>\n<!-- node5 -->\n<g id=\"node6\" class=\"node\">\n<title>node5</title>\n<ellipse fill=\"none\" stroke=\"black\" cx=\"186\" cy=\"-61.2\" rx=\"18\" ry=\"18\"/>\n<text text-anchor=\"middle\" x=\"186\" y=\"-57.5\" font-family=\"Times,serif\" font-size=\"14.00\">-</text>\n</g>\n<!-- node6&#45;&#45;node5 -->\n<g id=\"edge4\" class=\"edge\">\n<title>node6--node5</title>\n<path fill=\"none\" stroke=\"black\" d=\"M134.05,-94.6C145.05,-87.53 159.83,-78.02 170.81,-70.96\"/>\n</g>\n<!-- node3 -->\n<g id=\"node5\" class=\"node\">\n<title>node3</title>\n<polygon fill=\"none\" stroke=\"black\" points=\"170.4,-36 134.4,-36 134.4,0 170.4,0 170.4,-36\"/>\n<text text-anchor=\"middle\" x=\"152.4\" y=\"-14.3\" font-family=\"Times,serif\" font-size=\"14.00\">c</text>\n</g>\n<!-- node5&#45;&#45;node3 -->\n<g id=\"edge5\" class=\"edge\">\n<title>node5--node3</title>\n<path fill=\"none\" stroke=\"black\" d=\"M174.62,-46.57C172.04,-43.25 169.25,-39.67 166.56,-36.21\"/>\n</g>\n<!-- node4 -->\n<g id=\"node7\" class=\"node\">\n<title>node4</title>\n<polygon fill=\"none\" stroke=\"black\" points=\"237.6,-36 201.6,-36 201.6,0 237.6,0 237.6,-36\"/>\n<text text-anchor=\"middle\" x=\"219.6\" y=\"-14.3\" font-family=\"Times,serif\" font-size=\"14.00\">d</text>\n</g>\n<!-- node5&#45;&#45;node4 -->\n<g id=\"edge6\" class=\"edge\">\n<title>node5--node4</title>\n<path fill=\"none\" stroke=\"black\" d=\"M197.38,-46.57C199.96,-43.25 202.75,-39.67 205.44,-36.21\"/>\n</g>\n</g>\n</svg>"
          },
          "metadata": {}
        }
      ]
    },
    {
      "cell_type": "code",
      "metadata": {
        "id": "F4DP46cFF2nn",
        "outputId": "5b2b89d9-b845-4d35-f439-ca54bf690b6c",
        "colab": {
          "base_uri": "https://localhost:8080/",
          "height": 311
        }
      },
      "source": [
        "Arbol(\"(2-p*q)*(1/n+1/(p+q))\").dibujar()"
      ],
      "execution_count": null,
      "outputs": [
        {
          "output_type": "display_data",
          "data": {
            "text/plain": [
              "<IPython.core.display.SVG object>"
            ],
            "image/svg+xml": "<svg xmlns=\"http://www.w3.org/2000/svg\" xmlns:xlink=\"http://www.w3.org/1999/xlink\" width=\"514pt\" height=\"217pt\" viewBox=\"0.00 0.00 514.40 216.80\">\n<g id=\"graph0\" class=\"graph\" transform=\"scale(1 1) rotate(0) translate(4 212.8)\">\n<title>Arbol</title>\n<polygon fill=\"white\" stroke=\"transparent\" points=\"-4,4 -4,-212.8 510.4,-212.8 510.4,4 -4,4\"/>\n<!-- node0 -->\n<g id=\"node1\" class=\"node\">\n<title>node0</title>\n<polygon fill=\"none\" stroke=\"black\" points=\"36,-122.4 0,-122.4 0,-86.4 36,-86.4 36,-122.4\"/>\n<text text-anchor=\"middle\" x=\"18\" y=\"-100.7\" font-family=\"Times,serif\" font-size=\"14.00\">2</text>\n</g>\n<!-- node4 -->\n<g id=\"node2\" class=\"node\">\n<title>node4</title>\n<ellipse fill=\"none\" stroke=\"black\" cx=\"51.6\" cy=\"-147.6\" rx=\"18\" ry=\"18\"/>\n<text text-anchor=\"middle\" x=\"51.6\" y=\"-143.9\" font-family=\"Times,serif\" font-size=\"14.00\">-</text>\n</g>\n<!-- node4&#45;&#45;node0 -->\n<g id=\"edge2\" class=\"edge\">\n<title>node4--node0</title>\n<path fill=\"none\" stroke=\"black\" d=\"M40.22,-132.97C37.64,-129.65 34.85,-126.07 32.16,-122.61\"/>\n</g>\n<!-- node3 -->\n<g id=\"node4\" class=\"node\">\n<title>node3</title>\n<ellipse fill=\"none\" stroke=\"black\" cx=\"118.8\" cy=\"-104.4\" rx=\"18\" ry=\"18\"/>\n<text text-anchor=\"middle\" x=\"118.8\" y=\"-100.7\" font-family=\"Times,serif\" font-size=\"14.00\">*</text>\n</g>\n<!-- node4&#45;&#45;node3 -->\n<g id=\"edge3\" class=\"edge\">\n<title>node4--node3</title>\n<path fill=\"none\" stroke=\"black\" d=\"M66.85,-137.8C77.85,-130.73 92.63,-121.22 103.61,-114.16\"/>\n</g>\n<!-- node1 -->\n<g id=\"node3\" class=\"node\">\n<title>node1</title>\n<polygon fill=\"none\" stroke=\"black\" points=\"103.2,-79.2 67.2,-79.2 67.2,-43.2 103.2,-43.2 103.2,-79.2\"/>\n<text text-anchor=\"middle\" x=\"85.2\" y=\"-57.5\" font-family=\"Times,serif\" font-size=\"14.00\">p</text>\n</g>\n<!-- node3&#45;&#45;node1 -->\n<g id=\"edge4\" class=\"edge\">\n<title>node3--node1</title>\n<path fill=\"none\" stroke=\"black\" d=\"M107.42,-89.77C104.84,-86.45 102.05,-82.87 99.36,-79.41\"/>\n</g>\n<!-- node2 -->\n<g id=\"node5\" class=\"node\">\n<title>node2</title>\n<polygon fill=\"none\" stroke=\"black\" points=\"170.4,-79.2 134.4,-79.2 134.4,-43.2 170.4,-43.2 170.4,-79.2\"/>\n<text text-anchor=\"middle\" x=\"152.4\" y=\"-57.5\" font-family=\"Times,serif\" font-size=\"14.00\">q</text>\n</g>\n<!-- node3&#45;&#45;node2 -->\n<g id=\"edge5\" class=\"edge\">\n<title>node3--node2</title>\n<path fill=\"none\" stroke=\"black\" d=\"M130.18,-89.77C132.76,-86.45 135.55,-82.87 138.24,-79.41\"/>\n</g>\n<!-- node14 -->\n<g id=\"node6\" class=\"node\">\n<title>node14</title>\n<ellipse fill=\"none\" stroke=\"black\" cx=\"186\" cy=\"-190.8\" rx=\"18\" ry=\"18\"/>\n<text text-anchor=\"middle\" x=\"186\" y=\"-187.1\" font-family=\"Times,serif\" font-size=\"14.00\">*</text>\n</g>\n<!-- node14&#45;&#45;node4 -->\n<g id=\"edge1\" class=\"edge\">\n<title>node14--node4</title>\n<path fill=\"none\" stroke=\"black\" d=\"M168.7,-185.24C142.9,-176.95 94.6,-161.42 68.83,-153.14\"/>\n</g>\n<!-- node13 -->\n<g id=\"node10\" class=\"node\">\n<title>node13</title>\n<ellipse fill=\"none\" stroke=\"black\" cx=\"320.4\" cy=\"-147.6\" rx=\"18\" ry=\"18\"/>\n<text text-anchor=\"middle\" x=\"320.4\" y=\"-143.9\" font-family=\"Times,serif\" font-size=\"14.00\">+</text>\n</g>\n<!-- node14&#45;&#45;node13 -->\n<g id=\"edge6\" class=\"edge\">\n<title>node14--node13</title>\n<path fill=\"none\" stroke=\"black\" d=\"M203.3,-185.24C229.1,-176.95 277.4,-161.42 303.17,-153.14\"/>\n</g>\n<!-- node5 -->\n<g id=\"node7\" class=\"node\">\n<title>node5</title>\n<polygon fill=\"none\" stroke=\"black\" points=\"237.6,-79.2 201.6,-79.2 201.6,-43.2 237.6,-43.2 237.6,-79.2\"/>\n<text text-anchor=\"middle\" x=\"219.6\" y=\"-57.5\" font-family=\"Times,serif\" font-size=\"14.00\">1</text>\n</g>\n<!-- node7 -->\n<g id=\"node8\" class=\"node\">\n<title>node7</title>\n<ellipse fill=\"none\" stroke=\"black\" cx=\"253.2\" cy=\"-104.4\" rx=\"18\" ry=\"18\"/>\n<text text-anchor=\"middle\" x=\"253.2\" y=\"-100.7\" font-family=\"Times,serif\" font-size=\"14.00\">/</text>\n</g>\n<!-- node7&#45;&#45;node5 -->\n<g id=\"edge8\" class=\"edge\">\n<title>node7--node5</title>\n<path fill=\"none\" stroke=\"black\" d=\"M241.82,-89.77C239.24,-86.45 236.45,-82.87 233.76,-79.41\"/>\n</g>\n<!-- node6 -->\n<g id=\"node9\" class=\"node\">\n<title>node6</title>\n<polygon fill=\"none\" stroke=\"black\" points=\"304.8,-79.2 268.8,-79.2 268.8,-43.2 304.8,-43.2 304.8,-79.2\"/>\n<text text-anchor=\"middle\" x=\"286.8\" y=\"-57.5\" font-family=\"Times,serif\" font-size=\"14.00\">n</text>\n</g>\n<!-- node7&#45;&#45;node6 -->\n<g id=\"edge9\" class=\"edge\">\n<title>node7--node6</title>\n<path fill=\"none\" stroke=\"black\" d=\"M264.58,-89.77C267.16,-86.45 269.95,-82.87 272.64,-79.41\"/>\n</g>\n<!-- node13&#45;&#45;node7 -->\n<g id=\"edge7\" class=\"edge\">\n<title>node13--node7</title>\n<path fill=\"none\" stroke=\"black\" d=\"M305.15,-137.8C294.15,-130.73 279.37,-121.22 268.39,-114.16\"/>\n</g>\n<!-- node12 -->\n<g id=\"node12\" class=\"node\">\n<title>node12</title>\n<ellipse fill=\"none\" stroke=\"black\" cx=\"387.6\" cy=\"-104.4\" rx=\"18\" ry=\"18\"/>\n<text text-anchor=\"middle\" x=\"387.6\" y=\"-100.7\" font-family=\"Times,serif\" font-size=\"14.00\">/</text>\n</g>\n<!-- node13&#45;&#45;node12 -->\n<g id=\"edge10\" class=\"edge\">\n<title>node13--node12</title>\n<path fill=\"none\" stroke=\"black\" d=\"M335.65,-137.8C346.65,-130.73 361.43,-121.22 372.41,-114.16\"/>\n</g>\n<!-- node8 -->\n<g id=\"node11\" class=\"node\">\n<title>node8</title>\n<polygon fill=\"none\" stroke=\"black\" points=\"372,-79.2 336,-79.2 336,-43.2 372,-43.2 372,-79.2\"/>\n<text text-anchor=\"middle\" x=\"354\" y=\"-57.5\" font-family=\"Times,serif\" font-size=\"14.00\">1</text>\n</g>\n<!-- node12&#45;&#45;node8 -->\n<g id=\"edge11\" class=\"edge\">\n<title>node12--node8</title>\n<path fill=\"none\" stroke=\"black\" d=\"M376.22,-89.77C373.64,-86.45 370.85,-82.87 368.16,-79.41\"/>\n</g>\n<!-- node11 -->\n<g id=\"node14\" class=\"node\">\n<title>node11</title>\n<ellipse fill=\"none\" stroke=\"black\" cx=\"454.8\" cy=\"-61.2\" rx=\"18\" ry=\"18\"/>\n<text text-anchor=\"middle\" x=\"454.8\" y=\"-57.5\" font-family=\"Times,serif\" font-size=\"14.00\">+</text>\n</g>\n<!-- node12&#45;&#45;node11 -->\n<g id=\"edge12\" class=\"edge\">\n<title>node12--node11</title>\n<path fill=\"none\" stroke=\"black\" d=\"M402.85,-94.6C413.85,-87.53 428.63,-78.02 439.61,-70.96\"/>\n</g>\n<!-- node9 -->\n<g id=\"node13\" class=\"node\">\n<title>node9</title>\n<polygon fill=\"none\" stroke=\"black\" points=\"439.2,-36 403.2,-36 403.2,0 439.2,0 439.2,-36\"/>\n<text text-anchor=\"middle\" x=\"421.2\" y=\"-14.3\" font-family=\"Times,serif\" font-size=\"14.00\">p</text>\n</g>\n<!-- node11&#45;&#45;node9 -->\n<g id=\"edge13\" class=\"edge\">\n<title>node11--node9</title>\n<path fill=\"none\" stroke=\"black\" d=\"M443.42,-46.57C440.84,-43.25 438.05,-39.67 435.36,-36.21\"/>\n</g>\n<!-- node10 -->\n<g id=\"node15\" class=\"node\">\n<title>node10</title>\n<polygon fill=\"none\" stroke=\"black\" points=\"506.4,-36 470.4,-36 470.4,0 506.4,0 506.4,-36\"/>\n<text text-anchor=\"middle\" x=\"488.4\" y=\"-14.3\" font-family=\"Times,serif\" font-size=\"14.00\">q</text>\n</g>\n<!-- node11&#45;&#45;node10 -->\n<g id=\"edge14\" class=\"edge\">\n<title>node11--node10</title>\n<path fill=\"none\" stroke=\"black\" d=\"M466.18,-46.57C468.76,-43.25 471.55,-39.67 474.24,-36.21\"/>\n</g>\n</g>\n</svg>"
          },
          "metadata": {}
        }
      ]
    },
    {
      "cell_type": "markdown",
      "metadata": {
        "id": "UzH5VKIFF2ns"
      },
      "source": [
        "## Resultados"
      ]
    },
    {
      "cell_type": "markdown",
      "metadata": {
        "id": "_dKOs-tLF2ns"
      },
      "source": [
        "En esta sección probamos la generación de código que usted tiene que escribir. Mientras usted no sustituya la función ``codigo`` provisoria que viene en la definición de la clase, va a aparecer la lista que generamos ahí. Primero vamos a definir una función ``probar`` que genera el código a partir de una fórmula dada e imprime el resultado:"
      ]
    },
    {
      "cell_type": "code",
      "metadata": {
        "id": "nN9p3gO-F2nt"
      },
      "source": [
        "def probar(formula):\n",
        "    a=Arbol(formula)\n",
        "    for x in a.codigo():\n",
        "        print(x)"
      ],
      "execution_count": null,
      "outputs": []
    },
    {
      "cell_type": "markdown",
      "metadata": {
        "id": "puLezujdF2nx"
      },
      "source": [
        "A continuación probamos con varias fórmulas. Además de las fórmulas dadaas, usted tiene que agregar tres ejemplos adicionales."
      ]
    },
    {
      "cell_type": "code",
      "metadata": {
        "id": "f9hCpaCgF2ny",
        "outputId": "29327c91-1805-414b-c32d-868cdb0c82e1",
        "colab": {
          "base_uri": "https://localhost:8080/"
        }
      },
      "source": [
        "probar(\"a+1\")"
      ],
      "execution_count": null,
      "outputs": [
        {
          "output_type": "stream",
          "name": "stdout",
          "text": [
            "tarea1=a+1\n"
          ]
        }
      ]
    },
    {
      "cell_type": "code",
      "metadata": {
        "id": "vX6V_XTrF2n7",
        "outputId": "845c4422-1ec7-4678-ccd7-748a4bc13731",
        "colab": {
          "base_uri": "https://localhost:8080/"
        }
      },
      "source": [
        "probar(\"(a+b)*(c-d)\")"
      ],
      "execution_count": null,
      "outputs": [
        {
          "output_type": "stream",
          "name": "stdout",
          "text": [
            "tarea1=a+b\n",
            "tarea2=c-d\n",
            "tarea3=tarea1*tarea2\n"
          ]
        }
      ]
    },
    {
      "cell_type": "code",
      "metadata": {
        "id": "taeKmQj1F2n_",
        "outputId": "692e6c2b-d2af-44fb-c100-834ea49047d3",
        "colab": {
          "base_uri": "https://localhost:8080/"
        }
      },
      "source": [
        "probar(\"(2-p*q)*(1/n+1/(p+q))\")"
      ],
      "execution_count": null,
      "outputs": [
        {
          "output_type": "stream",
          "name": "stdout",
          "text": [
            "tarea1=p*q\n",
            "tarea2=2-tarea1\n",
            "tarea3=1/n\n",
            "tarea4=p+q\n",
            "tarea5=1/tarea4\n",
            "tarea6=tarea3+tarea5\n",
            "tarea7=tarea2*tarea6\n"
          ]
        }
      ]
    },
    {
      "cell_type": "code",
      "metadata": {
        "id": "KOs7ocpkF2oD",
        "outputId": "7b22f1df-a658-4ff0-c9fe-abba2a20feb3",
        "colab": {
          "base_uri": "https://localhost:8080/"
        }
      },
      "source": [
        "probar(\"((((a+b)+c)+d)+e)\")"
      ],
      "execution_count": null,
      "outputs": [
        {
          "output_type": "stream",
          "name": "stdout",
          "text": [
            "tarea1=a+b\n",
            "tarea2=tarea1+c\n",
            "tarea3=tarea2+d\n",
            "tarea4=tarea3+e\n"
          ]
        }
      ]
    },
    {
      "cell_type": "code",
      "metadata": {
        "id": "XzR_Y6o_F2oI",
        "outputId": "a0a1cdda-9994-4c9f-ba15-9f605f56e1ef",
        "colab": {
          "base_uri": "https://localhost:8080/"
        }
      },
      "source": [
        "probar(\"(a+(b+(c+(d+e))))\")"
      ],
      "execution_count": null,
      "outputs": [
        {
          "output_type": "stream",
          "name": "stdout",
          "text": [
            "tarea1=d+e\n",
            "tarea2=c+tarea1\n",
            "tarea3=b+tarea2\n",
            "tarea4=a+tarea3\n"
          ]
        }
      ]
    },
    {
      "cell_type": "code",
      "metadata": {
        "id": "R62vPzgAF2oL",
        "outputId": "9b0319ab-1707-4dd6-8481-ae1f434b0f56",
        "colab": {
          "base_uri": "https://localhost:8080/"
        }
      },
      "source": [
        "probar(\"a\")"
      ],
      "execution_count": null,
      "outputs": [
        {
          "output_type": "stream",
          "name": "stdout",
          "text": [
            "tarea1=a\n"
          ]
        }
      ]
    },
    {
      "cell_type": "code",
      "source": [
        "probar(\"7\")"
      ],
      "metadata": {
        "colab": {
          "base_uri": "https://localhost:8080/"
        },
        "id": "PaChDIsjEJlQ",
        "outputId": "7c3ba626-28d3-47de-c0d4-985e61614d21"
      },
      "execution_count": null,
      "outputs": [
        {
          "output_type": "stream",
          "name": "stdout",
          "text": [
            "tarea1=7\n"
          ]
        }
      ]
    },
    {
      "cell_type": "code",
      "source": [
        "probar(\"((((a+b)+(c/5))+(d*8))/(3-1))\")"
      ],
      "metadata": {
        "colab": {
          "base_uri": "https://localhost:8080/"
        },
        "id": "ngW5dhUwEMKX",
        "outputId": "beb37eb4-4684-4eee-8ffb-6ff0951ea32f"
      },
      "execution_count": null,
      "outputs": [
        {
          "output_type": "stream",
          "name": "stdout",
          "text": [
            "tarea1=a+b\n",
            "tarea2=c/5\n",
            "tarea3=tarea1+tarea2\n",
            "tarea4=d*8\n",
            "tarea5=tarea3+tarea4\n",
            "tarea6=3-1\n",
            "tarea7=tarea5/tarea6\n"
          ]
        }
      ]
    },
    {
      "cell_type": "code",
      "source": [
        "probar(\"((((a/(1/(b+(1*9))))+(c/5))/(3-1)))\")"
      ],
      "metadata": {
        "colab": {
          "base_uri": "https://localhost:8080/"
        },
        "id": "Eihi6nBdEqtQ",
        "outputId": "7b77c92b-f89f-44d5-efa9-7cd28ec3a627"
      },
      "execution_count": null,
      "outputs": [
        {
          "output_type": "stream",
          "name": "stdout",
          "text": [
            "tarea1=1*9\n",
            "tarea2=b+tarea1\n",
            "tarea3=1/tarea2\n",
            "tarea4=a/tarea3\n",
            "tarea5=c/5\n",
            "tarea6=tarea4+tarea5\n",
            "tarea7=3-1\n",
            "tarea8=tarea6/tarea7\n"
          ]
        }
      ]
    },
    {
      "cell_type": "code",
      "source": [
        "probar(\"1/(1/(1/(4+z)))\")"
      ],
      "metadata": {
        "colab": {
          "base_uri": "https://localhost:8080/"
        },
        "id": "Y0rXndXEFOGg",
        "outputId": "0d3a7732-8e3e-46b6-cad3-d09c2307fc5e"
      },
      "execution_count": null,
      "outputs": [
        {
          "output_type": "stream",
          "name": "stdout",
          "text": [
            "tarea1=4+z\n",
            "tarea2=1/tarea1\n",
            "tarea3=1/tarea2\n",
            "tarea4=1/tarea3\n"
          ]
        }
      ]
    },
    {
      "cell_type": "markdown",
      "metadata": {
        "id": "bTEMKjsgF2oO"
      },
      "source": [
        "## Para los que quieran aprender más (opcional)"
      ]
    },
    {
      "cell_type": "markdown",
      "metadata": {
        "id": "Qo1CVQQLF2oP"
      },
      "source": [
        "Suponga que hay escasez de variables temporales, así que se le ha pedido que trate de reciclarlas lo más posible, y solo crear nuevas variables ``ti`` cuando sea estrictamente necesario. Por ejemplo, para la fórmula\n",
        "\n",
        "```\n",
        "((a+b)*c)+((d-e)/f)\n",
        "```\n",
        "\n",
        "si generamos código como lo hemos hecho en los ejemplos anteriores (código de la izquierda), se usan 5 variables temporales, pero el código de la derecha muestra que se puede evaluar usando solo 2:\n",
        "\n",
        "```\n",
        "t1=a+b               t1=a+b\n",
        "t2=t1+c              t1=t1*c\n",
        "t3=d-e               t2=d-e\n",
        "t4=t3/f              t2=t2/f\n",
        "t5=t2+t4             t1=t1+t2\n",
        "```\n",
        "\n",
        "Piense cómo se podría modificar su algoritmo para que use el mínimo posible de variables temporales.\n",
        "\n",
        "No es necesario que implemente nada, solo que considere cómo se podría hacer. Si se le ocurre algo interesante, puede escribirlo al final de su tarea, pero no es obligatorio ni influye en la nota. ¡La satisfacción de poder resolver el problema es su propia recompensa!"
      ]
    }
  ]
}