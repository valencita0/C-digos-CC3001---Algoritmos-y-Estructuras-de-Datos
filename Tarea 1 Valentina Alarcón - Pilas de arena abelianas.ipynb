{
  "nbformat": 4,
  "nbformat_minor": 0,
  "metadata": {
    "colab": {
      "provenance": []
    },
    "kernelspec": {
      "name": "python3",
      "display_name": "Python 3"
    },
    "language_info": {
      "name": "python"
    }
  },
  "cells": [
    {
      "cell_type": "markdown",
      "source": [
        "# CC3001 Otoño 2023 Tarea 1 Valentina Alarcón Yáñez\n",
        "\n",
        "# Pilas de arena abelianas\n",
        "\n",
        "### Profesores\n",
        "Sección 1 Iván Sipirán •\n",
        "Sección 2 Patricio Poblete •\n",
        "Sección 3 Nelson Baloian\n",
        "\n",
        "\n"
      ],
      "metadata": {
        "id": "v5Mdk3Z7uxJU"
      }
    },
    {
      "cell_type": "markdown",
      "source": [
        "# Introducción\n",
        "El objetivo de esta tarea es estudiar un problema inspirado en un fenómeno físico, a través de un modelo matemático, el cual si bien es sencillo, produce resultados que presentan una estructura muy interesante.\n",
        "\n",
        "<img src=\"https://ivan-sipiran.com/downloads/arena.png\" alt= “” width=\"200\">\n",
        "\n",
        "La idea es que si uno va formando una pila de arena, llega un momento en que se produce un derrumbe, y la arena de esa pila se derrama hacia los lugares vecinos, estos a su vez se pueden derrumbar, y el proceso continúa hasta que finalmente se estabiliza.\n",
        "\n",
        "Para estudiar este proceso, usaremos un modelo ultra simplificado. Supondremos que la arena se deposita sobre una superficie plana, la cual está dividida en pequeñas celdas cuadradas, las cuales forman un tablero como se muestra en la siguiente figura:\n",
        "\n",
        "<img src=\"https://ivan-sipiran.com/downloads/tablero.png\" alt= “” width=\"100\">\n",
        "\n",
        "El modelo supone que si se apilan demasiados granos de arena en una celda, se produce un derrumbe. En particular, la regla es que si en una celda hay 4 o más granos, se le quitan 4 granos, que se reparten equitativamente hacia las celdas vecinas en los cuatro puntos cardinales.\n",
        "\n",
        "Para simular este proceso, supondremos que cada celda almacena un número entero, que es la cantidad de granos almacenados en su interior. Aplicando la regla antes descrita (y suponiendo que las celdas que aparecen vacías tienen cero granos), desde la configuración\n",
        "\n",
        "<img src=\"https://ivan-sipiran.com/downloads/tablero1.png\" alt= “” width=\"100\">\n",
        "\n",
        "se pasaría a\n",
        "\n",
        "<img src=\"https://ivan-sipiran.com/downloads/tablero2.png\" alt= “” width=\"100\">\n",
        "\n",
        "Cuando hay más de una casilla con exceso de granos de arena, la regla se puede aplicar a ellas en cualquier orden y el resultado final es el mismo. Esta propiedad es la que hace que estas pilas de arena se llamen abelianas.\n",
        "\n",
        "La idea es partir desde una configuración inicial, y luego aplicar esta regla en todos los casilleros que se pueda, hasta que no quede ninguno que tenga 4 o más granos de arena. Esa configuración final la vamos a visualizar asignando un color distinto a cada número de granos.\n",
        "\n",
        "En particular, nos va a interesar estudiar lo que ocurre cuando la configuración inicial tiene todas las celdas vacías, excepto la del centro, en la cual hay $N$ granos de arena (donde $N$ es un parámetro del problema).\n",
        "\n",
        "Note que en teoría el tablero es infinito en el sentido que siempre hay espacio para colocar los granos de arena que se van distribuyendo. Para su simulación, usted debe calcular un tamaño del tablero lo suficientemente grande como para estar seguro que ningún grano de arena se salga hacia afuera de los bordes (calcule la máxima área que se puede cubrir con $N$ granos de arena, y después calcule cuan grande debe ser el tablero  para poder contener esa área)."
      ],
      "metadata": {
        "id": "cOin18Qr5Y2U"
      }
    },
    {
      "cell_type": "markdown",
      "source": [
        "# Tarea\n",
        "\n",
        "## Parte 1\n",
        "Usted debe escribir una función en Python llamada ``arena``, tal que dado un valor de $N$, simule el proceso anteriormente descrito hasta que se estabilice. El programa debe contar e imprimir el número total de veces que se aplicó la regla que distribuye granos de arena hacia los vecinos. Además, debe visualizar en la pantalla el tablero resultante, usando los métodos que se describen más adelante.\n",
        "\n",
        "Por ejemplo, al simular con $N=10000$, la figura que resulta es\n",
        "\n",
        "<img src=\"https://ivan-sipiran.com/downloads/tablero3.png\" alt= “” width=\"250\">\n",
        "\n",
        "La idea va a ser ejecutar la función con un valor de $N$ dado por el profesor ($N=128$) y luego con valores crecientes de $N$, hasta el mayor número que pueda alcanzar dentro de un tiempo de ejecución razonable.\n",
        "\n"
      ],
      "metadata": {
        "id": "FzPTe0FB1raI"
      }
    },
    {
      "cell_type": "markdown",
      "source": [
        "Escriba a continuación la definición de su función:"
      ],
      "metadata": {
        "id": "K-PJVvftYW8_"
      }
    },
    {
      "cell_type": "code",
      "source": [
        "import numpy as np\n",
        "import math\n",
        "import matplotlib.pyplot as plt\n",
        "\n",
        "# Primero crearemos una función auxiliar que nos ayudará para crear el tablero,\n",
        "# Considerado que esperamos una figura final similar a la de un círculo\n",
        "\n",
        "# radio: int -> int\n",
        "# devuelve la mejor aproximación mayor entera de un radio calculado\n",
        "# según un número N de casillas en un círculo\n",
        "# ejemplo: radio(4)==2\n",
        "# además, usaremos la función \"ceil\" del módulo math para la aproximación.\n",
        "\n",
        "def radio(x):\n",
        "  pi = math.pi\n",
        "  rad = math.sqrt(x/pi)\n",
        "  int_rad = math.ceil(rad)\n",
        "  return int_rad\n",
        "\n",
        "# Crearemos otra función auxiliar llamada \"crear matriz\" que genere las matrices de numpy\n",
        "# De un tamaño adecuado a lo solicitado\n",
        "# Y agregando una unidad, tal que siempre haya una celda central\n",
        "\n",
        "# crear_matriz: int -> array\n",
        "# toma un radio p, lo hace diámetro, y crea una matriz de numpy simétrica de lado 2p+1 y compuesta por 0's.\n",
        "def crear_matriz(p):\n",
        "  diametro_tablero = p*2 +1\n",
        "  mat_tablero = np.zeros((diametro_tablero,diametro_tablero))\n",
        "  return (mat_tablero)\n",
        "\n",
        "\n",
        "#finalmente, creemos arena\n",
        "def arena(N):\n",
        "  radio_tab = radio(N)\n",
        "  diametro_tab = radio_tab*2 +1\n",
        "  matriz_tab = crear_matriz(radio_tab)\n",
        "  matriz_tab[radio_tab][radio_tab] +=N\n",
        "  p=0\n",
        "  #REVISAR\n",
        "  # Agrego un iterador lo suficientemente grande para que realice la inspección de los elementos la cantidad necesaria de veces.\n",
        "  #for j in range(0,N):\n",
        "  ind = (radio_tab,radio_tab)\n",
        "  while matriz_tab[ind]>=4:\n",
        "   # A partir de aquí, voy a seleccionar filas para recorrerlas y buscar lo solicitado.\n",
        "   for k in range(0,diametro_tab):\n",
        "     fila_tab = matriz_tab[:,k]\n",
        "     for i in range(0,diametro_tab):\n",
        "       while fila_tab[i] >=4:\n",
        "         #arriba\n",
        "         matriz_tab[i][k-1] +=1\n",
        "         #abajo\n",
        "         matriz_tab[i][k+1] +=1\n",
        "         #izquierda\n",
        "         matriz_tab[i-1][k] +=1\n",
        "         #derecha\n",
        "         matriz_tab[i+1][k] +=1\n",
        "         #central\n",
        "         matriz_tab[i][k] -=4\n",
        "         #contador de iteraciones\n",
        "         p+=1\n",
        "         #redefino el índice asociado al valor máximo de la matriz para seguir con la inspección\n",
        "         ind = np.unravel_index(np.argmax(matriz_tab), (diametro_tab,diametro_tab))\n",
        "  #Printeamos la cantidad de iteraciones\n",
        "  print(\"La cantidad de iteraciones es= \"+ str(p))\n",
        "  #Dibujando\n",
        "  visualizacion = plt.matshow(matriz_tab)\n",
        "  plt.show()\n",
        "  return visualizacion\n",
        "#0 es moradito\n",
        "#1 es azul\n",
        "#2 es verde\n",
        "#3 es amarillo\n",
        "\n",
        "#Probemos para N=28\n",
        "arena(28)"
      ],
      "metadata": {
        "colab": {
          "base_uri": "https://localhost:8080/",
          "height": 473
        },
        "id": "tkpwjMRh0d9Y",
        "outputId": "0cfdb123-07f8-498a-be57-c65a849c2669"
      },
      "execution_count": null,
      "outputs": [
        {
          "output_type": "stream",
          "name": "stdout",
          "text": [
            "La cantidad de iteraciones es= 21\n"
          ]
        },
        {
          "output_type": "display_data",
          "data": {
            "text/plain": [
              "<Figure size 480x480 with 1 Axes>"
            ],
            "image/png": "[encoded data removed]"
          },
          "metadata": {}
        },
        {
          "output_type": "execute_result",
          "data": {
            "text/plain": [
              "<matplotlib.image.AxesImage at 0x7f6a5c005e50>"
            ]
          },
          "metadata": {},
          "execution_count": 1
        }
      ]
    },
    {
      "cell_type": "markdown",
      "source": [
        "Explique aquí cómo calculó el tamaño que necesita tener el tablero.\n",
        "\n",
        "En primer lugar, es posible pensar que el peor de los casos es aquel donde quedaría un grano por casillero. Por otro lado, por la forma en que estos se distribuyen en sus ejes cardinales, podemos pensar que la forma se asemejaría cada vez más a un círculo. Luego, siendo N la cantidad de casilleros en un círculo, es válido usar la fórmula de área de un círculo $πr^2$ = N.\n",
        "\n",
        "De esta forma creé \"radio()\", función que devuelve la mejor aproximación mayor entera de un radio calculado según un número N de casillas en un círculo. Además, usé la función \"ceil\" del módulo math para la aproximarlo al número entero mayor más cercano, tal que podamos luego transformarlo a cantidad de casillas y el círculo siempre quede inscrito por dentro de la matriz.\n",
        "Luego, creé \"crear matriz()\" que genera las matrices de numpy de un tamaño adecuado a lo solicitado: el doble del radio recientemente calculado, más una unidad (para que siempre haya una celda central)"
      ],
      "metadata": {
        "id": "sYLLEG7aZlEv"
      }
    },
    {
      "cell_type": "markdown",
      "source": [
        "Ahora ejecute la función para $N=128$:"
      ],
      "metadata": {
        "id": "Oae9MYp3Y0Yz"
      }
    },
    {
      "cell_type": "code",
      "source": [
        "arena(128)"
      ],
      "metadata": {
        "id": "goTvRFGpYyeq",
        "colab": {
          "base_uri": "https://localhost:8080/",
          "height": 473
        },
        "outputId": "d4b3f431-281f-497e-cbd1-c2111c51a46f"
      },
      "execution_count": null,
      "outputs": [
        {
          "output_type": "stream",
          "name": "stdout",
          "text": [
            "La cantidad de iteraciones es= 342\n"
          ]
        },
        {
          "output_type": "display_data",
          "data": {
            "text/plain": [
              "<Figure size 480x480 with 1 Axes>"
            ],
            "image/png": "[encoded data removed]"
          },
          "metadata": {}
        },
        {
          "output_type": "execute_result",
          "data": {
            "text/plain": [
              "<matplotlib.image.AxesImage at 0x7f6a44717f40>"
            ]
          },
          "metadata": {},
          "execution_count": 2
        }
      ]
    },
    {
      "cell_type": "code",
      "source": [
        "#N=1500\n",
        "arena(1500)"
      ],
      "metadata": {
        "colab": {
          "base_uri": "https://localhost:8080/",
          "height": 473
        },
        "id": "s4jLMcI5wipK",
        "outputId": "3d58619a-9ea0-4044-f024-7984b04cb56b"
      },
      "execution_count": null,
      "outputs": [
        {
          "output_type": "stream",
          "name": "stdout",
          "text": [
            "La cantidad de iteraciones es= 41763\n"
          ]
        },
        {
          "output_type": "display_data",
          "data": {
            "text/plain": [
              "<Figure size 480x480 with 1 Axes>"
            ],
            "image/png": "[encoded data removed]"
          },
          "metadata": {}
        },
        {
          "output_type": "execute_result",
          "data": {
            "text/plain": [
              "<matplotlib.image.AxesImage at 0x7f6a446ad880>"
            ]
          },
          "metadata": {},
          "execution_count": 3
        }
      ]
    },
    {
      "cell_type": "code",
      "source": [
        "#N=5000\n",
        "arena(5000)"
      ],
      "metadata": {
        "id": "Pk8gaQ4gwlEb"
      },
      "execution_count": null,
      "outputs": []
    },
    {
      "cell_type": "code",
      "source": [
        "#N=7500\n",
        "arena(7500)"
      ],
      "metadata": {
        "colab": {
          "base_uri": "https://localhost:8080/",
          "height": 311
        },
        "id": "wiUmAak2xE8b",
        "outputId": "cd1ef7d7-40dc-404b-9f42-ba1c897310d3"
      },
      "execution_count": null,
      "outputs": [
        {
          "output_type": "stream",
          "name": "stdout",
          "text": [
            "La cantidad de iteraciones es= 1022122\n"
          ]
        },
        {
          "output_type": "display_data",
          "data": {
            "text/plain": [
              "<Figure size 288x288 with 1 Axes>"
            ],
            "image/png": "[encoded data removed]"
          },
          "metadata": {
            "needs_background": "light"
          }
        },
        {
          "output_type": "execute_result",
          "data": {
            "text/plain": [
              "<matplotlib.image.AxesImage at 0x7ff974503a60>"
            ]
          },
          "metadata": {},
          "execution_count": 5
        }
      ]
    },
    {
      "cell_type": "markdown",
      "source": [
        "A continuación ejecute la función para el valor más grande de $N$ que consiga alcanzar en un tiempo razonable:"
      ],
      "metadata": {
        "id": "rRg4A0WzYrVx"
      }
    },
    {
      "cell_type": "code",
      "source": [
        "arena(10000) # reemplace N por el valor máximo que alcanzó a procesar\n",
        "# N=10000 procesa en 58 segundos aprox"
      ],
      "metadata": {
        "id": "zHYqujX5ZP-t",
        "colab": {
          "base_uri": "https://localhost:8080/",
          "height": 311
        },
        "outputId": "ed749f69-e52c-4aa4-e799-717e963f3ba5"
      },
      "execution_count": null,
      "outputs": [
        {
          "output_type": "stream",
          "name": "stdout",
          "text": [
            "La cantidad de iteraciones es= 1830917\n"
          ]
        },
        {
          "output_type": "display_data",
          "data": {
            "text/plain": [
              "<Figure size 288x288 with 1 Axes>"
            ],
            "image/png": "[encoded data removed]"
          },
          "metadata": {
            "needs_background": "light"
          }
        },
        {
          "output_type": "execute_result",
          "data": {
            "text/plain": [
              "<matplotlib.image.AxesImage at 0x7ff974478d00>"
            ]
          },
          "metadata": {},
          "execution_count": 6
        }
      ]
    },
    {
      "cell_type": "markdown",
      "source": [
        "## Parte 2\n",
        "Observe que cuando en una celda hay un número grande de granos de arena, es muy ineficiente ir quitándole de 4 en 4, y sería mejor quitar de una sola vez lo más que se pueda. Podemos mejorar nuestro programa si cambiamos la regla de distribución, y decimos que si en una celda hay un número de granos de arena mayor o igual a 4, le quitamos de una sola vez el mayor múltiplo de 4 posible, y todos esos granos lo repartimos equitativamente entre los vecinos de los cuatro puntos cardinales. Escriba una versión modificada de su función de acuerdo a esta nueva regla.\n",
        "\n"
      ],
      "metadata": {
        "id": "_VYccou2XsRi"
      }
    },
    {
      "cell_type": "code",
      "source": [
        "def arena2(N):\n",
        "  radio_tab = radio(N)\n",
        "  diametro_tab = radio_tab*2 +1\n",
        "  matriz_tab = crear_matriz(radio_tab)\n",
        "  matriz_tab[radio_tab][radio_tab] +=N\n",
        "  p=0\n",
        "  #REVISAR\n",
        "  #for j in range(0,N):\n",
        "  ind = (radio_tab,radio_tab)\n",
        "  while matriz_tab[ind]>=4:\n",
        "   #selecciono filas\n",
        "   for k in range(0,diametro_tab):\n",
        "     fila_tab = matriz_tab[:,k]\n",
        "     for i in range(0,diametro_tab):\n",
        "       while fila_tab[i] >=4:\n",
        "         #arriba\n",
        "         matriz_tab[i][k-1] +=(4*(fila_tab[i]//4))/4\n",
        "         #abajo\n",
        "         matriz_tab[i][k+1] +=(4*(fila_tab[i]//4))/4\n",
        "         #izquierda\n",
        "         matriz_tab[i-1][k] +=(4*(fila_tab[i]//4))/4\n",
        "         #derecha\n",
        "         matriz_tab[i+1][k] +=(4*(fila_tab[i]//4))/4\n",
        "         #central\n",
        "         matriz_tab[i][k] -=(4*(fila_tab[i]//4))\n",
        "         #contador de iteraciones\n",
        "         p+=1\n",
        "         #redefino el índice asociado al valor máximo de la matriz para seguir con la inspección\n",
        "         ind = np.unravel_index(np.argmax(matriz_tab), (diametro_tab,diametro_tab))\n",
        "  #Printeamos la cantidad de iteraciones\n",
        "  print(\"La cantidad de iteraciones es= \"+ str(p))\n",
        "  #Dibujando\n",
        "  visualizacion = plt.matshow(matriz_tab)\n",
        "  plt.show()\n",
        "  return visualizacion\n",
        "#0 es moradito\n",
        "#1 es azul\n",
        "#2 es verde\n",
        "#3 es amarillo\n",
        "\n",
        "#Probemos para N=28\n",
        "arena2(28)"
      ],
      "metadata": {
        "id": "UBQQ9mRnb8c8",
        "colab": {
          "base_uri": "https://localhost:8080/",
          "height": 311
        },
        "outputId": "6da5a326-5f99-4026-ffc3-0bd5e3a50981"
      },
      "execution_count": null,
      "outputs": [
        {
          "output_type": "stream",
          "name": "stdout",
          "text": [
            "La cantidad de iteraciones es= 15\n"
          ]
        },
        {
          "output_type": "display_data",
          "data": {
            "text/plain": [
              "<Figure size 288x288 with 1 Axes>"
            ],
            "image/png": "[encoded data removed]"
          },
          "metadata": {
            "needs_background": "light"
          }
        },
        {
          "output_type": "execute_result",
          "data": {
            "text/plain": [
              "<matplotlib.image.AxesImage at 0x7ff97440d160>"
            ]
          },
          "metadata": {},
          "execution_count": 7
        }
      ]
    },
    {
      "cell_type": "markdown",
      "source": [
        "Ahora ejecute la función para $N=128$:"
      ],
      "metadata": {
        "id": "wtpLGoz9cF9J"
      }
    },
    {
      "cell_type": "code",
      "source": [
        "arena2(128)"
      ],
      "metadata": {
        "id": "7qDn9EAIcIyk",
        "colab": {
          "base_uri": "https://localhost:8080/",
          "height": 311
        },
        "outputId": "0acc9519-5029-4692-9a00-5558bb2470c0"
      },
      "execution_count": null,
      "outputs": [
        {
          "output_type": "stream",
          "name": "stdout",
          "text": [
            "La cantidad de iteraciones es= 227\n"
          ]
        },
        {
          "output_type": "display_data",
          "data": {
            "text/plain": [
              "<Figure size 288x288 with 1 Axes>"
            ],
            "image/png": "[encoded data removed]"
          },
          "metadata": {
            "needs_background": "light"
          }
        },
        {
          "output_type": "execute_result",
          "data": {
            "text/plain": [
              "<matplotlib.image.AxesImage at 0x7ff97437be50>"
            ]
          },
          "metadata": {},
          "execution_count": 8
        }
      ]
    },
    {
      "cell_type": "code",
      "source": [
        "arena2(1500)"
      ],
      "metadata": {
        "colab": {
          "base_uri": "https://localhost:8080/",
          "height": 311
        },
        "id": "47RElZU6wb3q",
        "outputId": "596a148c-dd71-44e7-a9af-44a409043759"
      },
      "execution_count": null,
      "outputs": [
        {
          "output_type": "stream",
          "name": "stdout",
          "text": [
            "La cantidad de iteraciones es= 27377\n"
          ]
        },
        {
          "output_type": "display_data",
          "data": {
            "text/plain": [
              "<Figure size 288x288 with 1 Axes>"
            ],
            "image/png": "[encoded data removed]"
          },
          "metadata": {
            "needs_background": "light"
          }
        },
        {
          "output_type": "execute_result",
          "data": {
            "text/plain": [
              "<matplotlib.image.AxesImage at 0x7ff974303b80>"
            ]
          },
          "metadata": {},
          "execution_count": 9
        }
      ]
    },
    {
      "cell_type": "code",
      "source": [
        "arena2(5000)"
      ],
      "metadata": {
        "colab": {
          "base_uri": "https://localhost:8080/",
          "height": 312
        },
        "id": "ygaJELceyiMU",
        "outputId": "51467ea7-2c1b-4bd1-e2e1-5cf108488071"
      },
      "execution_count": null,
      "outputs": [
        {
          "output_type": "stream",
          "name": "stdout",
          "text": [
            "La cantidad de iteraciones es= 307656\n"
          ]
        },
        {
          "output_type": "display_data",
          "data": {
            "text/plain": [
              "<Figure size 288x288 with 1 Axes>"
            ],
            "image/png": "[encoded data removed]"
          },
          "metadata": {
            "needs_background": "light"
          }
        },
        {
          "output_type": "execute_result",
          "data": {
            "text/plain": [
              "<matplotlib.image.AxesImage at 0x7ff97421c670>"
            ]
          },
          "metadata": {},
          "execution_count": 10
        }
      ]
    },
    {
      "cell_type": "code",
      "source": [
        "arena2(7500)"
      ],
      "metadata": {
        "colab": {
          "base_uri": "https://localhost:8080/",
          "height": 311
        },
        "id": "I1_Y3IaeymlC",
        "outputId": "23bfe437-3a95-464e-d328-b01799a599dc"
      },
      "execution_count": null,
      "outputs": [
        {
          "output_type": "stream",
          "name": "stdout",
          "text": [
            "La cantidad de iteraciones es= 665532\n"
          ]
        },
        {
          "output_type": "display_data",
          "data": {
            "text/plain": [
              "<Figure size 288x288 with 1 Axes>"
            ],
            "image/png": "[encoded data removed]"
          },
          "metadata": {
            "needs_background": "light"
          }
        },
        {
          "output_type": "execute_result",
          "data": {
            "text/plain": [
              "<matplotlib.image.AxesImage at 0x7ff9741b0130>"
            ]
          },
          "metadata": {},
          "execution_count": 11
        }
      ]
    },
    {
      "cell_type": "code",
      "source": [
        "arena2(10000)"
      ],
      "metadata": {
        "colab": {
          "base_uri": "https://localhost:8080/",
          "height": 311
        },
        "id": "1j--EiI5yosC",
        "outputId": "de049382-24f7-4051-ce35-1f85b9813b38"
      },
      "execution_count": null,
      "outputs": [
        {
          "output_type": "stream",
          "name": "stdout",
          "text": [
            "La cantidad de iteraciones es= 1196817\n"
          ]
        },
        {
          "output_type": "display_data",
          "data": {
            "text/plain": [
              "<Figure size 288x288 with 1 Axes>"
            ],
            "image/png": "[encoded data removed]"
          },
          "metadata": {
            "needs_background": "light"
          }
        },
        {
          "output_type": "execute_result",
          "data": {
            "text/plain": [
              "<matplotlib.image.AxesImage at 0x7ff974126400>"
            ]
          },
          "metadata": {},
          "execution_count": 12
        }
      ]
    },
    {
      "cell_type": "markdown",
      "source": [
        "A continuación ejecute la función para el valor más grande de  𝑁  que consiga alcanzar en un tiempo razonable. Note que éste número no necesariamente es el mismo que para la función anterior:"
      ],
      "metadata": {
        "id": "WmedJY_7cRHI"
      }
    },
    {
      "cell_type": "code",
      "source": [
        "arena2(11000) # reemplace N por el valor máximo que alcanzó a procesar\n",
        "#N=11000 procesa en aproximadamente 54s"
      ],
      "metadata": {
        "id": "rhGysVoqcn7e",
        "colab": {
          "base_uri": "https://localhost:8080/",
          "height": 312
        },
        "outputId": "00842571-94ac-4bf6-9371-4e7617fe6cf1"
      },
      "execution_count": null,
      "outputs": [
        {
          "output_type": "stream",
          "name": "stdout",
          "text": [
            "La cantidad de iteraciones es= 1462756\n"
          ]
        },
        {
          "output_type": "display_data",
          "data": {
            "text/plain": [
              "<Figure size 288x288 with 1 Axes>"
            ],
            "image/png": "[encoded data removed]"
          },
          "metadata": {
            "needs_background": "light"
          }
        },
        {
          "output_type": "execute_result",
          "data": {
            "text/plain": [
              "<matplotlib.image.AxesImage at 0x7ff9745f70d0>"
            ]
          },
          "metadata": {},
          "execution_count": 13
        }
      ]
    },
    {
      "cell_type": "markdown",
      "source": [
        "## Parte 3\n",
        "Compare a través de una tabla y un gráfico el número de aplicaciones de la regla que hace el programa en la Parte 1 y el de la Parte 2, para los distintos valores de $N$ que usted haya calculado.\n",
        "\n",
        "Discuta si valió la pena la optimización y discuta también (pero no implemente) otras posibles optimizaciones que se le ocurran."
      ],
      "metadata": {
        "id": "9NzVGUtaX9yT"
      }
    },
    {
      "cell_type": "markdown",
      "source": [
        "Primero haremos la tabla comparativa entre el número de iteraciones asociado tanto a la parte 1 como la parte 2\n",
        "\n",
        "| Valores de N | Parte 1 | Parte 2 |\n",
        "| --- | --- | --- |\n",
        "| 28 | 21 | 15 |\n",
        "| 1500 | 41.763 | 27.377 |\n",
        "| 5000 | 466.188 | 307.656 |\n",
        "| 7500 | 1.022.122 | 665.532 |\n",
        "| 10000 | 1.830.917 | 1.196.817 |"
      ],
      "metadata": {
        "id": "4gT-AVcd1dv0"
      }
    },
    {
      "cell_type": "code",
      "source": [
        "#Para hacer el gráfico comparativo usaremos matplotlib\n",
        "\n",
        "import matplotlib.pyplot as plt\n",
        "fig, ax = plt.subplots()\n",
        "#Parte 1: (28,21), (1500,41763), (5000,466188), (7500,1022122), (10000,1830917)\n",
        "plt.plot([28, 1500, 5000,7500, 10000], [21, 41763, 466188, 1022122, 1830917], color=\"g\", label=\"Parte 1\")\n",
        "#Parte 2: (28,15), (1500, 27377), (5000,307656), (7500,665532), (10000,1196817)\n",
        "plt.plot([28, 1500, 5000,7500, 10000], [15, 27377, 307656, 665532, 1196817], color=\"m\", label=\"Parte 2\")\n",
        "plt.title(\"Gráfico comparativo de número de aplicaciones de regla.\")\n",
        "plt.xlabel(\"Valor de N\")\n",
        "plt.ylabel(\"Iteraciones\")\n",
        "plt.legend()\n",
        "plt.show()\n",
        "\n",
        "#Es posible concluir que la parte 2 se vuelve incluso más eficiente a medida que N aumenta."
      ],
      "metadata": {
        "colab": {
          "base_uri": "https://localhost:8080/"
        },
        "id": "_x1KkoyLVAAc",
        "outputId": "9ce45923-0a21-4370-c5d3-8bf4d211318e"
      },
      "execution_count": null,
      "outputs": [
        {
          "output_type": "display_data",
          "data": {
            "text/plain": [
              "<Figure size 432x288 with 1 Axes>"
            ],
            "image/png": "[encoded data removed]"
          },
          "metadata": {
            "needs_background": "light"
          }
        }
      ]
    },
    {
      "cell_type": "markdown",
      "source": [
        "A mi parecer la optimización sí vale la pena, especialmente para valores más grandes de N. Esto, pues el código actualizado hace que el tiempo de procesamiento sea ligeramente menor y se deban hacer menos iteraciones. Es más eficiente que el inicial.\n",
        "\n",
        "Otra posible optimización que se me ocurre sería, dado que el resultado es siempre simétrico, solo calcular una cuarta parte del círculo final. Luego, multiplicar para obtener la distribución final."
      ],
      "metadata": {
        "id": "NtP1hOOTrzpK"
      }
    },
    {
      "cell_type": "markdown",
      "source": [
        "# Visualización\n",
        "\n",
        "Para la visualización se recomienda usar arreglos de Numpy y la librería Matplotlib. A continuación un código de ejemplo:"
      ],
      "metadata": {
        "id": "rNMcTh824f8G"
      }
    },
    {
      "cell_type": "code",
      "execution_count": null,
      "metadata": {
        "id": "iTkKsqy3uqha",
        "colab": {
          "base_uri": "https://localhost:8080/"
        },
        "outputId": "8d7c3c03-1423-4e00-e9f4-b3edb53e047f"
      },
      "outputs": [
        {
          "output_type": "display_data",
          "data": {
            "text/plain": [
              "<Figure size 288x360 with 1 Axes>"
            ],
            "image/png": "[encoded data removed]"
          },
          "metadata": {
            "needs_background": "light"
          }
        }
      ],
      "source": [
        "import matplotlib.pyplot as plt\n",
        "import numpy as np\n",
        "\n",
        "# Crea una matriz de numpy llena de ceros de dimensión 5x4\n",
        "mat = np.zeros((5,4))\n",
        "\n",
        "#Asigna un uno en la posición (0,1) (eje y, eje x)\n",
        "mat[0][1] = 1\n",
        "\n",
        "#Dibuja\n",
        "plt.matshow(mat)\n",
        "plt.show()"
      ]
    },
    {
      "cell_type": "markdown",
      "source": [
        "## ¿Qué hay que entregar?\n",
        "\n",
        "Usted debe crear una copia de este documento (del menú seleccionar \"Archivo\" o \"File\" y de ahi la opción \"guardar copia en Drive\" o \"save a copy in Drive\"). Este nuevo documento (notebook de Colab) es el que debe modificar para luego compartirlo con la opción \"Cualquier usuario de internet con este enlace puede ver esto\" (o “Anyone on the internet with this link can view”). Esta opción se encuentra disponible en la parte superior derecha de su notebook, en el botón \"Compartir\" (o \"Share\"). Una vez que tenga disponible el enlace, colocarlo en la descripción de la entrega de su tarea. No olvide colocar su nombre dentro del notebook."
      ],
      "metadata": {
        "id": "4Qy53sN95hDF"
      }
    }
  ]
}