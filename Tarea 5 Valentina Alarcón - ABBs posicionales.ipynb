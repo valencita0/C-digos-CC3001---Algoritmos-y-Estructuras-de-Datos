{
  "nbformat": 4,
  "nbformat_minor": 0,
  "metadata": {
    "colab": {
      "provenance": []
    },
    "kernelspec": {
      "name": "python3",
      "display_name": "Python 3"
    },
    "language_info": {
      "name": "python"
    }
  },
  "cells": [
    {
      "cell_type": "markdown",
      "source": [
        "# CC3001 Otoño 2023 Tarea 5 Valentina Alarcón Yáñez\n",
        "\n",
        "## ABBs posicionales\n",
        "\n",
        "### Profesores\n",
        "Sección 1 Iván Sipirán •\n",
        "Sección 2 Nelson Baloian •\n",
        "Sección 3 Patricio Poblete\n",
        "\n"
      ],
      "metadata": {
        "id": "deCM246B_yVT"
      }
    },
    {
      "cell_type": "code",
      "source": [
        "!pip install aed-utilities\n",
        "\n",
        "import aed_utilities as aed\n",
        "import numpy as np"
      ],
      "metadata": {
        "id": "TgslhNA3Pivn",
        "colab": {
          "base_uri": "https://localhost:8080/"
        },
        "outputId": "4a1e8838-b7ec-4623-d30a-b08ab3c0e85b"
      },
      "execution_count": null,
      "outputs": [
        {
          "output_type": "stream",
          "name": "stdout",
          "text": [
            "Looking in indexes: https://pypi.org/simple, https://us-python.pkg.dev/colab-wheels/public/simple/\n",
            "Collecting aed-utilities\n",
            "  Downloading aed_utilities-0.5.6.tar.gz (4.3 kB)\n",
            "  Preparing metadata (setup.py) ... \u001b[?25l\u001b[?25hdone\n",
            "Collecting validators (from aed-utilities)\n",
            "  Downloading validators-0.20.0.tar.gz (30 kB)\n",
            "  Preparing metadata (setup.py) ... \u001b[?25l\u001b[?25hdone\n",
            "Requirement already satisfied: beautifulsoup4 in /usr/local/lib/python3.10/dist-packages (from aed-utilities) (4.11.2)\n",
            "Requirement already satisfied: soupsieve>1.2 in /usr/local/lib/python3.10/dist-packages (from beautifulsoup4->aed-utilities) (2.4.1)\n",
            "Requirement already satisfied: decorator>=3.4.0 in /usr/local/lib/python3.10/dist-packages (from validators->aed-utilities) (4.4.2)\n",
            "Building wheels for collected packages: aed-utilities, validators\n",
            "  Building wheel for aed-utilities (setup.py) ... \u001b[?25l\u001b[?25hdone\n",
            "  Created wheel for aed-utilities: filename=aed_utilities-0.5.6-py3-none-any.whl size=4542 sha256=a7c73775b8443bd34fd8ff4d5f938044b51c33c4c425f4ea51859ad3967d056a\n",
            "  Stored in directory: /root/.cache/pip/wheels/db/6d/39/cc766f956b1e504722228ad30c8154cd48f4470e7e24dcfd0e\n",
            "  Building wheel for validators (setup.py) ... \u001b[?25l\u001b[?25hdone\n",
            "  Created wheel for validators: filename=validators-0.20.0-py3-none-any.whl size=19579 sha256=fed6585dda72539a481361ee7017dad0286ff8edab22251db8a0c1f7e6f24af4\n",
            "  Stored in directory: /root/.cache/pip/wheels/f2/ed/dd/d3a556ad245ef9dc570c6bcd2f22886d17b0b408dd3bbb9ac3\n",
            "Successfully built aed-utilities validators\n",
            "Installing collected packages: validators, aed-utilities\n",
            "Successfully installed aed-utilities-0.5.6 validators-0.20.0\n"
          ]
        }
      ]
    },
    {
      "cell_type": "markdown",
      "source": [
        "## Introducción\n",
        "\n",
        "Un *árbol de búsqueda binaria posicional* (*ABB posicional*) es un ABB modificado para que en cada nodo se agregue un campo adicional, que es un contador del número de llaves que hay en el subárbol que tiene a ese nodo como raíz, como se ve en el siguiente ejemplo:\n",
        "\n",
        "![Ejemplo ABB posicional](https://www.dcc.uchile.cl/ppoblete/cc3001/ABBposicional.png)\n",
        "\n",
        "Con esta información adicional, es posible, dado un valor de $k$, encontrar rápidamente el que sería el $k$-ésimo elemento, en un recorrido en inorden de izquierda a derecha ($k=1,\\ldots,n$, donde $n$ es el número de llaves del árbol). Por ser un ABB, esto es lo mismo que encontrar el $k$-ésimo menor elemento del conjunto.\n",
        "\n",
        "Llamaremos a esta operación ``find(k)``, la cual al ser ejecutada retorna un puntero al $k$-ésimo nodo interno, de izquierda a derecha. Si $k$ está fuera del rango $[1..n]$ se debe retornar ``None``.\n",
        "\n",
        "Para implementar esta operación, comenzamos en la raíz y miramos el contador del hijo izquierdo. Si éste es mayor o igual que $k$, entonces el $k$-ésimo debe estar en el subárbol izquierdo, y lo seguimos buscando ahí recursivamente. Si $k$ es exactamente 1 más que el contador del hijo izquierdo, el elemento buscado es la raíz, así que retornamos un puntero a él. Por último, si no ha sido ninguno de los casos anteriores, el $k$-ésimo debe estar en el subárbol derecho, así que seguimos buscando ahí recursivamente. Pero, dentro de ese subárbol, el elemento buscado ya no es el $k$-ésimo, hay que restarle al $k$ una cantidad (¿cuánto?). Por ejemplo, si estábamos originalmente buscando el elemento con $k=5$, el que sería la llave \"$62$\", una vez que vamos a buscarlo dentro del subárbol derecho, dentro de ese árbol es el elemento con $k=2$."
      ],
      "metadata": {
        "id": "WJAI-Lep7jKt"
      }
    },
    {
      "cell_type": "markdown",
      "source": [
        "## Objetivo de la tarea\n",
        "\n",
        "Su trabajo consiste en implementar las clases ``Arbol``, ``Nodoi`` y ``Nodoe`` y los métodos ``insert``, ``search`` y ``find`` en todos lugares en donde corresponda (no se pide implementar ``delete``). Luego debe ejecutar los casos de prueba que se indica.\n",
        "\n",
        "Note que la operación ``insert``, además de agregar la llave que se indica, debe modificar los contadores que sea necesario para que éstos reflejen correctamente los tamaños de los subárboles respectivos.\n",
        "\n",
        "Esta tarea se puede resolver con recursividad o sin recursividad. Usted debe decidir cuál enfoque usar.\n",
        "\n",
        "En el código que aparece a continuación usted debe agregar todo lo necesario para que la implementación esté completa.\n",
        "\n",
        "_Nota_: El campo \"``rep``\" contiene la representación visual del nodo, que va a aparecer cuando se dibuje."
      ],
      "metadata": {
        "id": "4KFJDmzuG0jF"
      }
    },
    {
      "cell_type": "code",
      "source": [
        "from traitlets import ForwardDeclaredInstance\n",
        "class Nodoi:\n",
        "    def __init__(self, izq, info, contador, der):\n",
        "        self.izq=izq\n",
        "        self.info=info\n",
        "        self.contador=contador\n",
        "        self.der=der\n",
        "        self.rep = str(info)+ ',' + str(contador)\n",
        "\n",
        "    def insert(self,numero):\n",
        "      assert numero!=self.info\n",
        "      if numero<self.info:\n",
        "        self.contador+=1\n",
        "        self.rep = str(self.info)+ ',' + str(self.contador)\n",
        "        return Nodoi(self.izq.insert(numero),self.info,self.contador,self.der)\n",
        "      else:\n",
        "        self.contador+=1\n",
        "        self.rep = str(self.info)+ ',' + str(self.contador)\n",
        "        return Nodoi(self.izq,self.info,self.contador,self.der.insert(numero))\n",
        "\n",
        "    def search(self,numero):\n",
        "        if numero==self.info:\n",
        "            return self\n",
        "        if numero<self.info:\n",
        "            return self.izq.search(numero)\n",
        "        else:\n",
        "            return self.der.search(numero)\n",
        "\n",
        "    def find(self,llave):\n",
        "      if self.izq.contador>=llave:\n",
        "        return self.izq.find(llave)\n",
        "      elif self.izq.contador+1 == llave:\n",
        "        print(self.info)\n",
        "        print(self.contador)\n",
        "        return self\n",
        "      else:\n",
        "        return self.der.find(llave-(self.izq.contador+1))\n",
        "\n",
        "\n",
        "class Nodoe:\n",
        "    def __init__(self,contador):\n",
        "        self.contador=contador\n",
        "        self.rep=contador\n",
        "\n",
        "    def insert(self,numero):\n",
        "      self.rep = str(self.contador)\n",
        "      return Nodoi(Nodoe(0),numero,1,Nodoe(0))\n",
        "\n",
        "    def search(self,numero):\n",
        "      return None\n",
        "\n",
        "    def find(self,llave):\n",
        "      pass\n",
        "\n",
        "class Arbol:\n",
        "    def __init__(self,raiz=Nodoe(0)):\n",
        "        self.raiz=raiz\n",
        "\n",
        "    def dibujar(self):\n",
        "      btd = aed.BinaryTreeDrawer(fieldData=\"rep\", fieldLeft=\"izq\", fieldRight=\"der\", classNone=Nodoe)\n",
        "      btd.draw_tree(self, \"raiz\")\n",
        "\n",
        "    def insert(self,numero):\n",
        "        #agrega el número en el lugar que corresponda\n",
        "        #y actualiza los contadores\n",
        "        self.raiz=self.raiz.insert(numero)\n",
        "\n",
        "    def search(self,numero):\n",
        "        return self.raiz.search(numero)\n",
        "\n",
        "\n",
        "    def find(self,llave):\n",
        "        return self.raiz.find(llave)"
      ],
      "metadata": {
        "id": "u9r5rdeVIh-M"
      },
      "execution_count": null,
      "outputs": []
    },
    {
      "cell_type": "markdown",
      "source": [
        "Las siguientes funciones son útiles para probar su implementación:"
      ],
      "metadata": {
        "id": "HCxFXP1lJqr5"
      }
    },
    {
      "cell_type": "code",
      "source": [
        "def test_search(a,x):\n",
        "    print(x, \"está\" if a.search(x) is not None else \"no está\")\n",
        "def test_find(a,k):\n",
        "    p=a.find(k)\n",
        "    print(\"La k-ésima llave para k=\",k, \"es\", p.info if p is not None else \"fuera de rango\")"
      ],
      "metadata": {
        "id": "KSZUXuskJxTz"
      },
      "execution_count": null,
      "outputs": []
    },
    {
      "cell_type": "markdown",
      "source": [
        "## Prueba: Construir un árbol por inserciones sucesivas"
      ],
      "metadata": {
        "id": "Z-gp17XpJ3lF"
      }
    },
    {
      "cell_type": "code",
      "source": [
        "a=Arbol()\n",
        "a.insert(40)\n",
        "a.insert(25)\n",
        "a.insert(32)\n",
        "a.insert(90)\n",
        "a.insert(62)\n",
        "a.insert(55)\n",
        "a.insert(70)\n",
        "a.dibujar()\n",
        "test_search(a,62)\n",
        "test_search(a,10)\n",
        "test_find(a,5)\n",
        "test_find(a,8)"
      ],
      "metadata": {
        "colab": {
          "base_uri": "https://localhost:8080/",
          "height": 418
        },
        "id": "T8tHbyMi-lai",
        "outputId": "ade3dd1c-5506-4bd8-eb70-435ee8d9d66b"
      },
      "execution_count": null,
      "outputs": [
        {
          "output_type": "display_data",
          "data": {
            "text/plain": [
              "<IPython.core.display.SVG object>"
            ],
            "image/svg+xml": "<svg xmlns=\"http://www.w3.org/2000/svg\" xmlns:xlink=\"http://www.w3.org/1999/xlink\" width=\"514pt\" height=\"217pt\" viewBox=\"0.00 0.00 514.40 216.80\">\n<g id=\"graph0\" class=\"graph\" transform=\"scale(1 1) rotate(0) translate(4 212.8)\">\n<title>Arbol</title>\n<polygon fill=\"white\" stroke=\"transparent\" points=\"-4,4 -4,-212.8 510.4,-212.8 510.4,4 -4,4\"/>\n<!-- node0 -->\n<g id=\"node1\" class=\"node\">\n<title>node0</title>\n<polygon fill=\"none\" stroke=\"black\" points=\"36,-122.4 0,-122.4 0,-86.4 36,-86.4 36,-122.4\"/>\n<text text-anchor=\"middle\" x=\"18\" y=\"-100.7\" font-family=\"Times,serif\" font-size=\"14.00\">0</text>\n</g>\n<!-- node4 -->\n<g id=\"node2\" class=\"node\">\n<title>node4</title>\n<ellipse fill=\"none\" stroke=\"black\" cx=\"51.6\" cy=\"-147.6\" rx=\"18\" ry=\"18\"/>\n<text text-anchor=\"middle\" x=\"51.6\" y=\"-143.9\" font-family=\"Times,serif\" font-size=\"14.00\">25,2</text>\n</g>\n<!-- node4&#45;&#45;node0 -->\n<g id=\"edge2\" class=\"edge\">\n<title>node4--node0</title>\n<path fill=\"none\" stroke=\"black\" d=\"M40.22,-132.97C37.64,-129.65 34.85,-126.07 32.16,-122.61\"/>\n</g>\n<!-- node3 -->\n<g id=\"node4\" class=\"node\">\n<title>node3</title>\n<ellipse fill=\"none\" stroke=\"black\" cx=\"118.8\" cy=\"-104.4\" rx=\"18\" ry=\"18\"/>\n<text text-anchor=\"middle\" x=\"118.8\" y=\"-100.7\" font-family=\"Times,serif\" font-size=\"14.00\">32,1</text>\n</g>\n<!-- node4&#45;&#45;node3 -->\n<g id=\"edge3\" class=\"edge\">\n<title>node4--node3</title>\n<path fill=\"none\" stroke=\"black\" d=\"M66.85,-137.8C77.85,-130.73 92.63,-121.22 103.61,-114.16\"/>\n</g>\n<!-- node1 -->\n<g id=\"node3\" class=\"node\">\n<title>node1</title>\n<polygon fill=\"none\" stroke=\"black\" points=\"103.2,-79.2 67.2,-79.2 67.2,-43.2 103.2,-43.2 103.2,-79.2\"/>\n<text text-anchor=\"middle\" x=\"85.2\" y=\"-57.5\" font-family=\"Times,serif\" font-size=\"14.00\">0</text>\n</g>\n<!-- node3&#45;&#45;node1 -->\n<g id=\"edge4\" class=\"edge\">\n<title>node3--node1</title>\n<path fill=\"none\" stroke=\"black\" d=\"M107.42,-89.77C104.84,-86.45 102.05,-82.87 99.36,-79.41\"/>\n</g>\n<!-- node2 -->\n<g id=\"node5\" class=\"node\">\n<title>node2</title>\n<polygon fill=\"none\" stroke=\"black\" points=\"170.4,-79.2 134.4,-79.2 134.4,-43.2 170.4,-43.2 170.4,-79.2\"/>\n<text text-anchor=\"middle\" x=\"152.4\" y=\"-57.5\" font-family=\"Times,serif\" font-size=\"14.00\">0</text>\n</g>\n<!-- node3&#45;&#45;node2 -->\n<g id=\"edge5\" class=\"edge\">\n<title>node3--node2</title>\n<path fill=\"none\" stroke=\"black\" d=\"M130.18,-89.77C132.76,-86.45 135.55,-82.87 138.24,-79.41\"/>\n</g>\n<!-- node14 -->\n<g id=\"node6\" class=\"node\">\n<title>node14</title>\n<ellipse fill=\"none\" stroke=\"black\" cx=\"186\" cy=\"-190.8\" rx=\"18\" ry=\"18\"/>\n<text text-anchor=\"middle\" x=\"186\" y=\"-187.1\" font-family=\"Times,serif\" font-size=\"14.00\">40,7</text>\n</g>\n<!-- node14&#45;&#45;node4 -->\n<g id=\"edge1\" class=\"edge\">\n<title>node14--node4</title>\n<path fill=\"none\" stroke=\"black\" d=\"M168.7,-185.24C142.9,-176.95 94.6,-161.42 68.83,-153.14\"/>\n</g>\n<!-- node13 -->\n<g id=\"node14\" class=\"node\">\n<title>node13</title>\n<ellipse fill=\"none\" stroke=\"black\" cx=\"454.8\" cy=\"-147.6\" rx=\"18\" ry=\"18\"/>\n<text text-anchor=\"middle\" x=\"454.8\" y=\"-143.9\" font-family=\"Times,serif\" font-size=\"14.00\">90,4</text>\n</g>\n<!-- node14&#45;&#45;node13 -->\n<g id=\"edge6\" class=\"edge\">\n<title>node14--node13</title>\n<path fill=\"none\" stroke=\"black\" d=\"M204.05,-187.9C253.02,-180.03 387.95,-158.34 436.82,-150.49\"/>\n</g>\n<!-- node5 -->\n<g id=\"node7\" class=\"node\">\n<title>node5</title>\n<polygon fill=\"none\" stroke=\"black\" points=\"237.6,-36 201.6,-36 201.6,0 237.6,0 237.6,-36\"/>\n<text text-anchor=\"middle\" x=\"219.6\" y=\"-14.3\" font-family=\"Times,serif\" font-size=\"14.00\">0</text>\n</g>\n<!-- node7 -->\n<g id=\"node8\" class=\"node\">\n<title>node7</title>\n<ellipse fill=\"none\" stroke=\"black\" cx=\"253.2\" cy=\"-61.2\" rx=\"18\" ry=\"18\"/>\n<text text-anchor=\"middle\" x=\"253.2\" y=\"-57.5\" font-family=\"Times,serif\" font-size=\"14.00\">55,1</text>\n</g>\n<!-- node7&#45;&#45;node5 -->\n<g id=\"edge9\" class=\"edge\">\n<title>node7--node5</title>\n<path fill=\"none\" stroke=\"black\" d=\"M241.82,-46.57C239.24,-43.25 236.45,-39.67 233.76,-36.21\"/>\n</g>\n<!-- node6 -->\n<g id=\"node9\" class=\"node\">\n<title>node6</title>\n<polygon fill=\"none\" stroke=\"black\" points=\"304.8,-36 268.8,-36 268.8,0 304.8,0 304.8,-36\"/>\n<text text-anchor=\"middle\" x=\"286.8\" y=\"-14.3\" font-family=\"Times,serif\" font-size=\"14.00\">0</text>\n</g>\n<!-- node7&#45;&#45;node6 -->\n<g id=\"edge10\" class=\"edge\">\n<title>node7--node6</title>\n<path fill=\"none\" stroke=\"black\" d=\"M264.58,-46.57C267.16,-43.25 269.95,-39.67 272.64,-36.21\"/>\n</g>\n<!-- node11 -->\n<g id=\"node10\" class=\"node\">\n<title>node11</title>\n<ellipse fill=\"none\" stroke=\"black\" cx=\"320.4\" cy=\"-104.4\" rx=\"18\" ry=\"18\"/>\n<text text-anchor=\"middle\" x=\"320.4\" y=\"-100.7\" font-family=\"Times,serif\" font-size=\"14.00\">62,3</text>\n</g>\n<!-- node11&#45;&#45;node7 -->\n<g id=\"edge8\" class=\"edge\">\n<title>node11--node7</title>\n<path fill=\"none\" stroke=\"black\" d=\"M305.15,-94.6C294.15,-87.53 279.37,-78.02 268.39,-70.96\"/>\n</g>\n<!-- node10 -->\n<g id=\"node12\" class=\"node\">\n<title>node10</title>\n<ellipse fill=\"none\" stroke=\"black\" cx=\"387.6\" cy=\"-61.2\" rx=\"18\" ry=\"18\"/>\n<text text-anchor=\"middle\" x=\"387.6\" y=\"-57.5\" font-family=\"Times,serif\" font-size=\"14.00\">70,1</text>\n</g>\n<!-- node11&#45;&#45;node10 -->\n<g id=\"edge11\" class=\"edge\">\n<title>node11--node10</title>\n<path fill=\"none\" stroke=\"black\" d=\"M335.65,-94.6C346.65,-87.53 361.43,-78.02 372.41,-70.96\"/>\n</g>\n<!-- node8 -->\n<g id=\"node11\" class=\"node\">\n<title>node8</title>\n<polygon fill=\"none\" stroke=\"black\" points=\"372,-36 336,-36 336,0 372,0 372,-36\"/>\n<text text-anchor=\"middle\" x=\"354\" y=\"-14.3\" font-family=\"Times,serif\" font-size=\"14.00\">0</text>\n</g>\n<!-- node10&#45;&#45;node8 -->\n<g id=\"edge12\" class=\"edge\">\n<title>node10--node8</title>\n<path fill=\"none\" stroke=\"black\" d=\"M376.22,-46.57C373.64,-43.25 370.85,-39.67 368.16,-36.21\"/>\n</g>\n<!-- node9 -->\n<g id=\"node13\" class=\"node\">\n<title>node9</title>\n<polygon fill=\"none\" stroke=\"black\" points=\"439.2,-36 403.2,-36 403.2,0 439.2,0 439.2,-36\"/>\n<text text-anchor=\"middle\" x=\"421.2\" y=\"-14.3\" font-family=\"Times,serif\" font-size=\"14.00\">0</text>\n</g>\n<!-- node10&#45;&#45;node9 -->\n<g id=\"edge13\" class=\"edge\">\n<title>node10--node9</title>\n<path fill=\"none\" stroke=\"black\" d=\"M398.98,-46.57C401.56,-43.25 404.35,-39.67 407.04,-36.21\"/>\n</g>\n<!-- node13&#45;&#45;node11 -->\n<g id=\"edge7\" class=\"edge\">\n<title>node13--node11</title>\n<path fill=\"none\" stroke=\"black\" d=\"M437.5,-142.04C411.7,-133.75 363.4,-118.22 337.63,-109.94\"/>\n</g>\n<!-- node12 -->\n<g id=\"node15\" class=\"node\">\n<title>node12</title>\n<polygon fill=\"none\" stroke=\"black\" points=\"506.4,-122.4 470.4,-122.4 470.4,-86.4 506.4,-86.4 506.4,-122.4\"/>\n<text text-anchor=\"middle\" x=\"488.4\" y=\"-100.7\" font-family=\"Times,serif\" font-size=\"14.00\">0</text>\n</g>\n<!-- node13&#45;&#45;node12 -->\n<g id=\"edge14\" class=\"edge\">\n<title>node13--node12</title>\n<path fill=\"none\" stroke=\"black\" d=\"M466.18,-132.97C468.76,-129.65 471.55,-126.07 474.24,-122.61\"/>\n</g>\n</g>\n</svg>"
          },
          "metadata": {}
        },
        {
          "output_type": "stream",
          "name": "stdout",
          "text": [
            "62 está\n",
            "10 no está\n",
            "62\n",
            "3\n",
            "La k-ésima llave para k= 5 es 62\n",
            "La k-ésima llave para k= 8 es fuera de rango\n"
          ]
        }
      ]
    },
    {
      "cell_type": "code",
      "source": [
        "a=Arbol()\n",
        "a.insert(40)\n",
        "a.insert(25)\n",
        "a.insert(32)\n",
        "a.insert(90)\n",
        "a.insert(62)\n",
        "a.insert(55)\n",
        "a.insert(70)\n",
        "a.insert(10)\n",
        "a.insert(45)\n",
        "a.dibujar()\n",
        "test_search(a,62)\n",
        "test_search(a,10)\n",
        "test_search(a,40)\n",
        "test_find(a,5)\n",
        "test_find(a,8)\n",
        "test_find(a,0)\n",
        "test_find(a,4)"
      ],
      "metadata": {
        "id": "vWSH6OGmKCec",
        "colab": {
          "base_uri": "https://localhost:8080/",
          "height": 600
        },
        "outputId": "9645f4e2-5205-4104-8e29-a3c4df3a83bb"
      },
      "execution_count": null,
      "outputs": [
        {
          "output_type": "display_data",
          "data": {
            "text/plain": [
              "<IPython.core.display.SVG object>"
            ],
            "image/svg+xml": "<svg xmlns=\"http://www.w3.org/2000/svg\" xmlns:xlink=\"http://www.w3.org/1999/xlink\" width=\"649pt\" height=\"260pt\" viewBox=\"0.00 0.00 648.80 260.00\">\n<g id=\"graph0\" class=\"graph\" transform=\"scale(1 1) rotate(0) translate(4 256)\">\n<title>Arbol</title>\n<polygon fill=\"white\" stroke=\"transparent\" points=\"-4,4 -4,-256 644.8,-256 644.8,4 -4,4\"/>\n<!-- node0 -->\n<g id=\"node1\" class=\"node\">\n<title>node0</title>\n<polygon fill=\"none\" stroke=\"black\" points=\"36,-122.4 0,-122.4 0,-86.4 36,-86.4 36,-122.4\"/>\n<text text-anchor=\"middle\" x=\"18\" y=\"-100.7\" font-family=\"Times,serif\" font-size=\"14.00\">0</text>\n</g>\n<!-- node2 -->\n<g id=\"node2\" class=\"node\">\n<title>node2</title>\n<ellipse fill=\"none\" stroke=\"black\" cx=\"51.6\" cy=\"-147.6\" rx=\"18\" ry=\"18\"/>\n<text text-anchor=\"middle\" x=\"51.6\" y=\"-143.9\" font-family=\"Times,serif\" font-size=\"14.00\">10,1</text>\n</g>\n<!-- node2&#45;&#45;node0 -->\n<g id=\"edge3\" class=\"edge\">\n<title>node2--node0</title>\n<path fill=\"none\" stroke=\"black\" d=\"M40.22,-132.97C37.64,-129.65 34.85,-126.07 32.16,-122.61\"/>\n</g>\n<!-- node1 -->\n<g id=\"node3\" class=\"node\">\n<title>node1</title>\n<polygon fill=\"none\" stroke=\"black\" points=\"103.2,-122.4 67.2,-122.4 67.2,-86.4 103.2,-86.4 103.2,-122.4\"/>\n<text text-anchor=\"middle\" x=\"85.2\" y=\"-100.7\" font-family=\"Times,serif\" font-size=\"14.00\">0</text>\n</g>\n<!-- node2&#45;&#45;node1 -->\n<g id=\"edge4\" class=\"edge\">\n<title>node2--node1</title>\n<path fill=\"none\" stroke=\"black\" d=\"M62.98,-132.97C65.56,-129.65 68.35,-126.07 71.04,-122.61\"/>\n</g>\n<!-- node6 -->\n<g id=\"node4\" class=\"node\">\n<title>node6</title>\n<ellipse fill=\"none\" stroke=\"black\" cx=\"118.8\" cy=\"-190.8\" rx=\"18\" ry=\"18\"/>\n<text text-anchor=\"middle\" x=\"118.8\" y=\"-187.1\" font-family=\"Times,serif\" font-size=\"14.00\">25,3</text>\n</g>\n<!-- node6&#45;&#45;node2 -->\n<g id=\"edge2\" class=\"edge\">\n<title>node6--node2</title>\n<path fill=\"none\" stroke=\"black\" d=\"M103.55,-181C92.55,-173.93 77.77,-164.42 66.79,-157.36\"/>\n</g>\n<!-- node5 -->\n<g id=\"node6\" class=\"node\">\n<title>node5</title>\n<ellipse fill=\"none\" stroke=\"black\" cx=\"186\" cy=\"-147.6\" rx=\"18\" ry=\"18\"/>\n<text text-anchor=\"middle\" x=\"186\" y=\"-143.9\" font-family=\"Times,serif\" font-size=\"14.00\">32,1</text>\n</g>\n<!-- node6&#45;&#45;node5 -->\n<g id=\"edge5\" class=\"edge\">\n<title>node6--node5</title>\n<path fill=\"none\" stroke=\"black\" d=\"M134.05,-181C145.05,-173.93 159.83,-164.42 170.81,-157.36\"/>\n</g>\n<!-- node3 -->\n<g id=\"node5\" class=\"node\">\n<title>node3</title>\n<polygon fill=\"none\" stroke=\"black\" points=\"170.4,-122.4 134.4,-122.4 134.4,-86.4 170.4,-86.4 170.4,-122.4\"/>\n<text text-anchor=\"middle\" x=\"152.4\" y=\"-100.7\" font-family=\"Times,serif\" font-size=\"14.00\">0</text>\n</g>\n<!-- node5&#45;&#45;node3 -->\n<g id=\"edge6\" class=\"edge\">\n<title>node5--node3</title>\n<path fill=\"none\" stroke=\"black\" d=\"M174.62,-132.97C172.04,-129.65 169.25,-126.07 166.56,-122.61\"/>\n</g>\n<!-- node4 -->\n<g id=\"node7\" class=\"node\">\n<title>node4</title>\n<polygon fill=\"none\" stroke=\"black\" points=\"237.6,-122.4 201.6,-122.4 201.6,-86.4 237.6,-86.4 237.6,-122.4\"/>\n<text text-anchor=\"middle\" x=\"219.6\" y=\"-100.7\" font-family=\"Times,serif\" font-size=\"14.00\">0</text>\n</g>\n<!-- node5&#45;&#45;node4 -->\n<g id=\"edge7\" class=\"edge\">\n<title>node5--node4</title>\n<path fill=\"none\" stroke=\"black\" d=\"M197.38,-132.97C199.96,-129.65 202.75,-126.07 205.44,-122.61\"/>\n</g>\n<!-- node18 -->\n<g id=\"node8\" class=\"node\">\n<title>node18</title>\n<ellipse fill=\"none\" stroke=\"black\" cx=\"253.2\" cy=\"-234\" rx=\"18\" ry=\"18\"/>\n<text text-anchor=\"middle\" x=\"253.2\" y=\"-230.3\" font-family=\"Times,serif\" font-size=\"14.00\">40,9</text>\n</g>\n<!-- node18&#45;&#45;node6 -->\n<g id=\"edge1\" class=\"edge\">\n<title>node18--node6</title>\n<path fill=\"none\" stroke=\"black\" d=\"M235.9,-228.44C210.1,-220.15 161.8,-204.62 136.03,-196.34\"/>\n</g>\n<!-- node17 -->\n<g id=\"node18\" class=\"node\">\n<title>node17</title>\n<ellipse fill=\"none\" stroke=\"black\" cx=\"589.2\" cy=\"-190.8\" rx=\"18\" ry=\"18\"/>\n<text text-anchor=\"middle\" x=\"589.2\" y=\"-187.1\" font-family=\"Times,serif\" font-size=\"14.00\">90,5</text>\n</g>\n<!-- node18&#45;&#45;node17 -->\n<g id=\"edge8\" class=\"edge\">\n<title>node18--node17</title>\n<path fill=\"none\" stroke=\"black\" d=\"M271.26,-231.68C329.61,-224.18 512.58,-200.65 571.05,-193.13\"/>\n</g>\n<!-- node7 -->\n<g id=\"node9\" class=\"node\">\n<title>node7</title>\n<polygon fill=\"none\" stroke=\"black\" points=\"304.8,-36 268.8,-36 268.8,0 304.8,0 304.8,-36\"/>\n<text text-anchor=\"middle\" x=\"286.8\" y=\"-14.3\" font-family=\"Times,serif\" font-size=\"14.00\">0</text>\n</g>\n<!-- node9 -->\n<g id=\"node10\" class=\"node\">\n<title>node9</title>\n<ellipse fill=\"none\" stroke=\"black\" cx=\"320.4\" cy=\"-61.2\" rx=\"18\" ry=\"18\"/>\n<text text-anchor=\"middle\" x=\"320.4\" y=\"-57.5\" font-family=\"Times,serif\" font-size=\"14.00\">45,1</text>\n</g>\n<!-- node9&#45;&#45;node7 -->\n<g id=\"edge12\" class=\"edge\">\n<title>node9--node7</title>\n<path fill=\"none\" stroke=\"black\" d=\"M309.02,-46.57C306.44,-43.25 303.65,-39.67 300.96,-36.21\"/>\n</g>\n<!-- node8 -->\n<g id=\"node11\" class=\"node\">\n<title>node8</title>\n<polygon fill=\"none\" stroke=\"black\" points=\"372,-36 336,-36 336,0 372,0 372,-36\"/>\n<text text-anchor=\"middle\" x=\"354\" y=\"-14.3\" font-family=\"Times,serif\" font-size=\"14.00\">0</text>\n</g>\n<!-- node9&#45;&#45;node8 -->\n<g id=\"edge13\" class=\"edge\">\n<title>node9--node8</title>\n<path fill=\"none\" stroke=\"black\" d=\"M331.78,-46.57C334.36,-43.25 337.15,-39.67 339.84,-36.21\"/>\n</g>\n<!-- node11 -->\n<g id=\"node12\" class=\"node\">\n<title>node11</title>\n<ellipse fill=\"none\" stroke=\"black\" cx=\"387.6\" cy=\"-104.4\" rx=\"18\" ry=\"18\"/>\n<text text-anchor=\"middle\" x=\"387.6\" y=\"-100.7\" font-family=\"Times,serif\" font-size=\"14.00\">55,2</text>\n</g>\n<!-- node11&#45;&#45;node9 -->\n<g id=\"edge11\" class=\"edge\">\n<title>node11--node9</title>\n<path fill=\"none\" stroke=\"black\" d=\"M372.35,-94.6C361.35,-87.53 346.57,-78.02 335.59,-70.96\"/>\n</g>\n<!-- node10 -->\n<g id=\"node13\" class=\"node\">\n<title>node10</title>\n<polygon fill=\"none\" stroke=\"black\" points=\"439.2,-79.2 403.2,-79.2 403.2,-43.2 439.2,-43.2 439.2,-79.2\"/>\n<text text-anchor=\"middle\" x=\"421.2\" y=\"-57.5\" font-family=\"Times,serif\" font-size=\"14.00\">0</text>\n</g>\n<!-- node11&#45;&#45;node10 -->\n<g id=\"edge14\" class=\"edge\">\n<title>node11--node10</title>\n<path fill=\"none\" stroke=\"black\" d=\"M398.98,-89.77C401.56,-86.45 404.35,-82.87 407.04,-79.41\"/>\n</g>\n<!-- node15 -->\n<g id=\"node14\" class=\"node\">\n<title>node15</title>\n<ellipse fill=\"none\" stroke=\"black\" cx=\"454.8\" cy=\"-147.6\" rx=\"18\" ry=\"18\"/>\n<text text-anchor=\"middle\" x=\"454.8\" y=\"-143.9\" font-family=\"Times,serif\" font-size=\"14.00\">62,4</text>\n</g>\n<!-- node15&#45;&#45;node11 -->\n<g id=\"edge10\" class=\"edge\">\n<title>node15--node11</title>\n<path fill=\"none\" stroke=\"black\" d=\"M439.55,-137.8C428.55,-130.73 413.77,-121.22 402.79,-114.16\"/>\n</g>\n<!-- node14 -->\n<g id=\"node16\" class=\"node\">\n<title>node14</title>\n<ellipse fill=\"none\" stroke=\"black\" cx=\"522\" cy=\"-104.4\" rx=\"18\" ry=\"18\"/>\n<text text-anchor=\"middle\" x=\"522\" y=\"-100.7\" font-family=\"Times,serif\" font-size=\"14.00\">70,1</text>\n</g>\n<!-- node15&#45;&#45;node14 -->\n<g id=\"edge15\" class=\"edge\">\n<title>node15--node14</title>\n<path fill=\"none\" stroke=\"black\" d=\"M470.05,-137.8C481.05,-130.73 495.83,-121.22 506.81,-114.16\"/>\n</g>\n<!-- node12 -->\n<g id=\"node15\" class=\"node\">\n<title>node12</title>\n<polygon fill=\"none\" stroke=\"black\" points=\"506.4,-79.2 470.4,-79.2 470.4,-43.2 506.4,-43.2 506.4,-79.2\"/>\n<text text-anchor=\"middle\" x=\"488.4\" y=\"-57.5\" font-family=\"Times,serif\" font-size=\"14.00\">0</text>\n</g>\n<!-- node14&#45;&#45;node12 -->\n<g id=\"edge16\" class=\"edge\">\n<title>node14--node12</title>\n<path fill=\"none\" stroke=\"black\" d=\"M510.62,-89.77C508.04,-86.45 505.25,-82.87 502.56,-79.41\"/>\n</g>\n<!-- node13 -->\n<g id=\"node17\" class=\"node\">\n<title>node13</title>\n<polygon fill=\"none\" stroke=\"black\" points=\"573.6,-79.2 537.6,-79.2 537.6,-43.2 573.6,-43.2 573.6,-79.2\"/>\n<text text-anchor=\"middle\" x=\"555.6\" y=\"-57.5\" font-family=\"Times,serif\" font-size=\"14.00\">0</text>\n</g>\n<!-- node14&#45;&#45;node13 -->\n<g id=\"edge17\" class=\"edge\">\n<title>node14--node13</title>\n<path fill=\"none\" stroke=\"black\" d=\"M533.38,-89.77C535.96,-86.45 538.75,-82.87 541.44,-79.41\"/>\n</g>\n<!-- node17&#45;&#45;node15 -->\n<g id=\"edge9\" class=\"edge\">\n<title>node17--node15</title>\n<path fill=\"none\" stroke=\"black\" d=\"M571.9,-185.24C546.1,-176.95 497.8,-161.42 472.03,-153.14\"/>\n</g>\n<!-- node16 -->\n<g id=\"node19\" class=\"node\">\n<title>node16</title>\n<polygon fill=\"none\" stroke=\"black\" points=\"640.8,-165.6 604.8,-165.6 604.8,-129.6 640.8,-129.6 640.8,-165.6\"/>\n<text text-anchor=\"middle\" x=\"622.8\" y=\"-143.9\" font-family=\"Times,serif\" font-size=\"14.00\">0</text>\n</g>\n<!-- node17&#45;&#45;node16 -->\n<g id=\"edge18\" class=\"edge\">\n<title>node17--node16</title>\n<path fill=\"none\" stroke=\"black\" d=\"M600.58,-176.17C603.16,-172.85 605.95,-169.27 608.64,-165.81\"/>\n</g>\n</g>\n</svg>"
          },
          "metadata": {}
        },
        {
          "output_type": "stream",
          "name": "stdout",
          "text": [
            "62 está\n",
            "10 está\n",
            "40 está\n",
            "45\n",
            "1\n",
            "La k-ésima llave para k= 5 es 45\n",
            "70\n",
            "1\n",
            "La k-ésima llave para k= 8 es 70\n",
            "La k-ésima llave para k= 0 es fuera de rango\n",
            "40\n",
            "9\n",
            "La k-ésima llave para k= 4 es 40\n"
          ]
        }
      ]
    },
    {
      "cell_type": "markdown",
      "source": [
        "## ¿Qué hay que entregar?\n",
        "\n",
        "Usted debe crear una copia de este documento (del menú seleccionar \"Archivo\" o \"File\" y de ahi la opción \"guardar copia en Drive\" o \"save a copy in Drive\"). Este nuevo documento (notebook de Colab) es el que debe modificar para luego compartirlo con la opción \"Cualquier usuario de internet con este enlace puede ver esto\" (o “Anyone on the internet with this link can view”). Esta opción se encuentra disponible en la parte superior derecha de su notebook, en el botón \"Compartir\" (o \"Share\"). Una vez que tenga disponible el enlace, colocarlo en la descripción de la entrega de su tarea. No olvide colocar su nombre dentro del notebook."
      ],
      "metadata": {
        "id": "kTFnyLnlwc-E"
      }
    }
  ]
}